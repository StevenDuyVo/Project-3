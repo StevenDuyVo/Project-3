{
 "cells": [
  {
   "cell_type": "code",
   "execution_count": 2,
   "metadata": {},
   "outputs": [],
   "source": [
    "from pymongo import MongoClient\n",
    "from pprint import pprint\n",
    "import numpy as np\n",
    "import matplotlib.pyplot as plt\n"
   ]
  },
  {
   "cell_type": "code",
   "execution_count": 3,
   "metadata": {},
   "outputs": [],
   "source": [
    "mongo = MongoClient(port=27017)"
   ]
  },
  {
   "cell_type": "code",
   "execution_count": 4,
   "metadata": {},
   "outputs": [
    {
     "name": "stdout",
     "output_type": "stream",
     "text": [
      "['Spotify_2023', 'admin', 'autosaurus', 'classDB', 'config', 'local', 'met', 'uk_food']\n"
     ]
    }
   ],
   "source": [
    "print(mongo.list_database_names())"
   ]
  },
  {
   "cell_type": "code",
   "execution_count": 7,
   "metadata": {},
   "outputs": [],
   "source": [
    "db = mongo['Spotify_2023']\n"
   ]
  },
  {
   "cell_type": "code",
   "execution_count": 9,
   "metadata": {},
   "outputs": [
    {
     "name": "stdout",
     "output_type": "stream",
     "text": [
      "['Song_list']\n"
     ]
    }
   ],
   "source": [
    "print(db.list_collection_names())"
   ]
  },
  {
   "cell_type": "code",
   "execution_count": 10,
   "metadata": {},
   "outputs": [],
   "source": [
    "Most_Popular_Songs_2023 = db['Song_list']"
   ]
  },
  {
   "cell_type": "code",
   "execution_count": 12,
   "metadata": {},
   "outputs": [
    {
     "data": {
      "text/plain": [
       "{'_id': ObjectId('666b8730480d52d219eeeabd'),\n",
       " 'option': 'Seven (feat. Latto) (Explicit Ver.)',\n",
       " 'artist(s)_name': 'Latto, Jung Kook',\n",
       " 'artist_count': 2,\n",
       " 'released_year': 2023,\n",
       " 'released_month': 7,\n",
       " 'released_day': 14,\n",
       " 'in_spotify_playlists': 553,\n",
       " 'in_spotify_charts': 147,\n",
       " 'streams': 141381703,\n",
       " 'in_apple_playlists': 43,\n",
       " 'in_apple_charts': 263,\n",
       " 'in_deezer_playlists': 45,\n",
       " 'in_deezer_charts': 10,\n",
       " 'in_shazam_charts': 826,\n",
       " 'bpm': 125,\n",
       " 'key': 'B',\n",
       " 'mode': 'Major',\n",
       " 'danceability_%': 80,\n",
       " 'valence_%': 89,\n",
       " 'energy_%': 83,\n",
       " 'acousticness_%': 31,\n",
       " 'instrumentalness_%': 0,\n",
       " 'liveness_%': 8,\n",
       " 'speechiness_%': 4}"
      ]
     },
     "execution_count": 12,
     "metadata": {},
     "output_type": "execute_result"
    }
   ],
   "source": [
    "Most_Popular_Songs_2023.find_one()"
   ]
  }
 ],
 "metadata": {
  "kernelspec": {
   "display_name": "Python 3",
   "language": "python",
   "name": "python3"
  },
  "language_info": {
   "codemirror_mode": {
    "name": "ipython",
    "version": 3
   },
   "file_extension": ".py",
   "mimetype": "text/x-python",
   "name": "python",
   "nbconvert_exporter": "python",
   "pygments_lexer": "ipython3",
   "version": "3.11.7"
  }
 },
 "nbformat": 4,
 "nbformat_minor": 2
}
