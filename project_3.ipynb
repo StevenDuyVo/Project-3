{
 "cells": [
  {
   "cell_type": "code",
   "execution_count": 1,
   "metadata": {},
   "outputs": [],
   "source": [
    "from pymongo import MongoClient\n",
    "import plotly.express as px\n",
    "from pprint import pprint\n",
    "import numpy as np\n",
    "import matplotlib.pyplot as plt\n",
    "import pandas as pd\n"
   ]
  },
  {
   "cell_type": "code",
   "execution_count": 2,
   "metadata": {},
   "outputs": [],
   "source": [
    "mongo = MongoClient(port=27017)"
   ]
  },
  {
   "cell_type": "code",
   "execution_count": 3,
   "metadata": {},
   "outputs": [
    {
     "name": "stdout",
     "output_type": "stream",
     "text": [
      "['Spotify_2023', 'admin', 'autosaurus', 'classDB', 'config', 'local', 'met', 'uk_food']\n"
     ]
    }
   ],
   "source": [
    "print(mongo.list_database_names())"
   ]
  },
  {
   "cell_type": "code",
   "execution_count": 4,
   "metadata": {},
   "outputs": [],
   "source": [
    "db = mongo['Spotify_2023']\n"
   ]
  },
  {
   "cell_type": "code",
   "execution_count": 5,
   "metadata": {},
   "outputs": [
    {
     "name": "stdout",
     "output_type": "stream",
     "text": [
      "['Song_list']\n"
     ]
    }
   ],
   "source": [
    "print(db.list_collection_names())"
   ]
  },
  {
   "cell_type": "code",
   "execution_count": 6,
   "metadata": {},
   "outputs": [],
   "source": [
    "Most_Popular_Songs_2023 = db['Song_list']"
   ]
  },
  {
   "cell_type": "code",
   "execution_count": 7,
   "metadata": {},
   "outputs": [
    {
     "data": {
      "text/plain": [
       "{'_id': ObjectId('666b8730480d52d219eeeabd'),\n",
       " 'option': 'Seven (feat. Latto) (Explicit Ver.)',\n",
       " 'artist(s)_name': 'Latto, Jung Kook',\n",
       " 'artist_count': 2,\n",
       " 'released_year': 2023,\n",
       " 'released_month': 7,\n",
       " 'released_day': 14,\n",
       " 'in_spotify_playlists': 553,\n",
       " 'in_spotify_charts': 147,\n",
       " 'streams': 141381703,\n",
       " 'in_apple_playlists': 43,\n",
       " 'in_apple_charts': 263,\n",
       " 'in_deezer_playlists': 45,\n",
       " 'in_deezer_charts': 10,\n",
       " 'in_shazam_charts': 826,\n",
       " 'bpm': 125,\n",
       " 'key': 'B',\n",
       " 'mode': 'Major',\n",
       " 'danceability_%': 80,\n",
       " 'valence_%': 89,\n",
       " 'energy_%': 83,\n",
       " 'acousticness_%': 31,\n",
       " 'instrumentalness_%': 0,\n",
       " 'liveness_%': 8,\n",
       " 'speechiness_%': 4}"
      ]
     },
     "execution_count": 7,
     "metadata": {},
     "output_type": "execute_result"
    }
   ],
   "source": [
    "Most_Popular_Songs_2023.find_one()"
   ]
  },
  {
   "cell_type": "code",
   "execution_count": 54,
   "metadata": {},
   "outputs": [],
   "source": [
    "x = list(Most_Popular_Songs_2023.find().sort({'in_spotify_charts':-1}))\n",
    "y = list(Most_Popular_Songs_2023.find().sort({'streams':-1}))"
   ]
  },
  {
   "cell_type": "code",
   "execution_count": 65,
   "metadata": {},
   "outputs": [
    {
     "data": {
      "text/html": [
       "<div>\n",
       "<style scoped>\n",
       "    .dataframe tbody tr th:only-of-type {\n",
       "        vertical-align: middle;\n",
       "    }\n",
       "\n",
       "    .dataframe tbody tr th {\n",
       "        vertical-align: top;\n",
       "    }\n",
       "\n",
       "    .dataframe thead th {\n",
       "        text-align: right;\n",
       "    }\n",
       "</style>\n",
       "<table border=\"1\" class=\"dataframe\">\n",
       "  <thead>\n",
       "    <tr style=\"text-align: right;\">\n",
       "      <th></th>\n",
       "      <th>_id</th>\n",
       "      <th>song_name</th>\n",
       "      <th>artist(s)_name</th>\n",
       "      <th>artist_count</th>\n",
       "      <th>released_year</th>\n",
       "      <th>released_month</th>\n",
       "      <th>released_day</th>\n",
       "      <th>in_spotify_playlists</th>\n",
       "      <th>in_spotify_charts</th>\n",
       "      <th>streams</th>\n",
       "      <th>...</th>\n",
       "      <th>bpm</th>\n",
       "      <th>key</th>\n",
       "      <th>mode</th>\n",
       "      <th>danceability_%</th>\n",
       "      <th>valence_%</th>\n",
       "      <th>energy_%</th>\n",
       "      <th>acousticness_%</th>\n",
       "      <th>instrumentalness_%</th>\n",
       "      <th>liveness_%</th>\n",
       "      <th>speechiness_%</th>\n",
       "    </tr>\n",
       "  </thead>\n",
       "  <tbody>\n",
       "    <tr>\n",
       "      <th>0</th>\n",
       "      <td>666b8730480d52d219eeeabd</td>\n",
       "      <td>Seven (feat. Latto) (Explicit Ver.)</td>\n",
       "      <td>Latto, Jung Kook</td>\n",
       "      <td>2</td>\n",
       "      <td>2023</td>\n",
       "      <td>7</td>\n",
       "      <td>14</td>\n",
       "      <td>553</td>\n",
       "      <td>147</td>\n",
       "      <td>141381703</td>\n",
       "      <td>...</td>\n",
       "      <td>125</td>\n",
       "      <td>B</td>\n",
       "      <td>Major</td>\n",
       "      <td>80</td>\n",
       "      <td>89</td>\n",
       "      <td>83</td>\n",
       "      <td>31</td>\n",
       "      <td>0</td>\n",
       "      <td>8</td>\n",
       "      <td>4</td>\n",
       "    </tr>\n",
       "    <tr>\n",
       "      <th>1</th>\n",
       "      <td>666b8730480d52d219eeeacb</td>\n",
       "      <td>As It Was</td>\n",
       "      <td>Harry Styles</td>\n",
       "      <td>1</td>\n",
       "      <td>2022</td>\n",
       "      <td>3</td>\n",
       "      <td>31</td>\n",
       "      <td>23575</td>\n",
       "      <td>130</td>\n",
       "      <td>2513188493</td>\n",
       "      <td>...</td>\n",
       "      <td>174</td>\n",
       "      <td>F#</td>\n",
       "      <td>Minor</td>\n",
       "      <td>52</td>\n",
       "      <td>66</td>\n",
       "      <td>73</td>\n",
       "      <td>34</td>\n",
       "      <td>0</td>\n",
       "      <td>31</td>\n",
       "      <td>6</td>\n",
       "    </tr>\n",
       "    <tr>\n",
       "      <th>2</th>\n",
       "      <td>666b8730480d52d219eeeac9</td>\n",
       "      <td>Flowers</td>\n",
       "      <td>Miley Cyrus</td>\n",
       "      <td>1</td>\n",
       "      <td>2023</td>\n",
       "      <td>1</td>\n",
       "      <td>12</td>\n",
       "      <td>12211</td>\n",
       "      <td>115</td>\n",
       "      <td>1316855716</td>\n",
       "      <td>...</td>\n",
       "      <td>118</td>\n",
       "      <td>NaN</td>\n",
       "      <td>Major</td>\n",
       "      <td>71</td>\n",
       "      <td>65</td>\n",
       "      <td>68</td>\n",
       "      <td>6</td>\n",
       "      <td>0</td>\n",
       "      <td>3</td>\n",
       "      <td>7</td>\n",
       "    </tr>\n",
       "    <tr>\n",
       "      <th>3</th>\n",
       "      <td>666b8730480d52d219eeeabf</td>\n",
       "      <td>vampire</td>\n",
       "      <td>Olivia Rodrigo</td>\n",
       "      <td>1</td>\n",
       "      <td>2023</td>\n",
       "      <td>6</td>\n",
       "      <td>30</td>\n",
       "      <td>1397</td>\n",
       "      <td>113</td>\n",
       "      <td>140003974</td>\n",
       "      <td>...</td>\n",
       "      <td>138</td>\n",
       "      <td>F</td>\n",
       "      <td>Major</td>\n",
       "      <td>51</td>\n",
       "      <td>32</td>\n",
       "      <td>53</td>\n",
       "      <td>17</td>\n",
       "      <td>0</td>\n",
       "      <td>31</td>\n",
       "      <td>6</td>\n",
       "    </tr>\n",
       "    <tr>\n",
       "      <th>4</th>\n",
       "      <td>666b8730480d52d219eeead3</td>\n",
       "      <td>I Wanna Be Yours</td>\n",
       "      <td>Arctic Monkeys</td>\n",
       "      <td>1</td>\n",
       "      <td>2013</td>\n",
       "      <td>1</td>\n",
       "      <td>1</td>\n",
       "      <td>12859</td>\n",
       "      <td>110</td>\n",
       "      <td>1297026226</td>\n",
       "      <td>...</td>\n",
       "      <td>135</td>\n",
       "      <td>NaN</td>\n",
       "      <td>Minor</td>\n",
       "      <td>48</td>\n",
       "      <td>44</td>\n",
       "      <td>42</td>\n",
       "      <td>12</td>\n",
       "      <td>2</td>\n",
       "      <td>11</td>\n",
       "      <td>3</td>\n",
       "    </tr>\n",
       "    <tr>\n",
       "      <th>5</th>\n",
       "      <td>666b8730480d52d219eeeace</td>\n",
       "      <td>What Was I Made For? [From The Motion Picture ...</td>\n",
       "      <td>Billie Eilish</td>\n",
       "      <td>1</td>\n",
       "      <td>2023</td>\n",
       "      <td>7</td>\n",
       "      <td>13</td>\n",
       "      <td>873</td>\n",
       "      <td>104</td>\n",
       "      <td>30546883</td>\n",
       "      <td>...</td>\n",
       "      <td>78</td>\n",
       "      <td>NaN</td>\n",
       "      <td>Major</td>\n",
       "      <td>44</td>\n",
       "      <td>14</td>\n",
       "      <td>9</td>\n",
       "      <td>96</td>\n",
       "      <td>0</td>\n",
       "      <td>10</td>\n",
       "      <td>3</td>\n",
       "    </tr>\n",
       "    <tr>\n",
       "      <th>6</th>\n",
       "      <td>666b8730480d52d219eeeada</td>\n",
       "      <td>Dance The Night (From Barbie The Album)</td>\n",
       "      <td>Dua Lipa</td>\n",
       "      <td>1</td>\n",
       "      <td>2023</td>\n",
       "      <td>5</td>\n",
       "      <td>25</td>\n",
       "      <td>2988</td>\n",
       "      <td>101</td>\n",
       "      <td>127408954</td>\n",
       "      <td>...</td>\n",
       "      <td>110</td>\n",
       "      <td>B</td>\n",
       "      <td>Minor</td>\n",
       "      <td>67</td>\n",
       "      <td>78</td>\n",
       "      <td>85</td>\n",
       "      <td>2</td>\n",
       "      <td>0</td>\n",
       "      <td>33</td>\n",
       "      <td>5</td>\n",
       "    </tr>\n",
       "    <tr>\n",
       "      <th>7</th>\n",
       "      <td>666b8730480d52d219eeeac0</td>\n",
       "      <td>Cruel Summer</td>\n",
       "      <td>Taylor Swift</td>\n",
       "      <td>1</td>\n",
       "      <td>2019</td>\n",
       "      <td>8</td>\n",
       "      <td>23</td>\n",
       "      <td>7858</td>\n",
       "      <td>100</td>\n",
       "      <td>800840817</td>\n",
       "      <td>...</td>\n",
       "      <td>170</td>\n",
       "      <td>A</td>\n",
       "      <td>Major</td>\n",
       "      <td>55</td>\n",
       "      <td>58</td>\n",
       "      <td>72</td>\n",
       "      <td>11</td>\n",
       "      <td>0</td>\n",
       "      <td>11</td>\n",
       "      <td>15</td>\n",
       "    </tr>\n",
       "    <tr>\n",
       "      <th>8</th>\n",
       "      <td>666b8730480d52d219eeeaca</td>\n",
       "      <td>Daylight</td>\n",
       "      <td>David Kushner</td>\n",
       "      <td>1</td>\n",
       "      <td>2023</td>\n",
       "      <td>4</td>\n",
       "      <td>14</td>\n",
       "      <td>3528</td>\n",
       "      <td>98</td>\n",
       "      <td>387570742</td>\n",
       "      <td>...</td>\n",
       "      <td>130</td>\n",
       "      <td>D</td>\n",
       "      <td>Minor</td>\n",
       "      <td>51</td>\n",
       "      <td>32</td>\n",
       "      <td>43</td>\n",
       "      <td>83</td>\n",
       "      <td>0</td>\n",
       "      <td>9</td>\n",
       "      <td>3</td>\n",
       "    </tr>\n",
       "    <tr>\n",
       "      <th>9</th>\n",
       "      <td>666b8730480d52d219eeeac2</td>\n",
       "      <td>Sprinter</td>\n",
       "      <td>Dave, Central Cee</td>\n",
       "      <td>2</td>\n",
       "      <td>2023</td>\n",
       "      <td>6</td>\n",
       "      <td>1</td>\n",
       "      <td>2186</td>\n",
       "      <td>91</td>\n",
       "      <td>183706234</td>\n",
       "      <td>...</td>\n",
       "      <td>141</td>\n",
       "      <td>C#</td>\n",
       "      <td>Major</td>\n",
       "      <td>92</td>\n",
       "      <td>66</td>\n",
       "      <td>58</td>\n",
       "      <td>19</td>\n",
       "      <td>0</td>\n",
       "      <td>8</td>\n",
       "      <td>24</td>\n",
       "    </tr>\n",
       "  </tbody>\n",
       "</table>\n",
       "<p>10 rows × 25 columns</p>\n",
       "</div>"
      ],
      "text/plain": [
       "                        _id  \\\n",
       "0  666b8730480d52d219eeeabd   \n",
       "1  666b8730480d52d219eeeacb   \n",
       "2  666b8730480d52d219eeeac9   \n",
       "3  666b8730480d52d219eeeabf   \n",
       "4  666b8730480d52d219eeead3   \n",
       "5  666b8730480d52d219eeeace   \n",
       "6  666b8730480d52d219eeeada   \n",
       "7  666b8730480d52d219eeeac0   \n",
       "8  666b8730480d52d219eeeaca   \n",
       "9  666b8730480d52d219eeeac2   \n",
       "\n",
       "                                           song_name     artist(s)_name  \\\n",
       "0                Seven (feat. Latto) (Explicit Ver.)   Latto, Jung Kook   \n",
       "1                                          As It Was       Harry Styles   \n",
       "2                                            Flowers        Miley Cyrus   \n",
       "3                                            vampire     Olivia Rodrigo   \n",
       "4                                   I Wanna Be Yours     Arctic Monkeys   \n",
       "5  What Was I Made For? [From The Motion Picture ...      Billie Eilish   \n",
       "6            Dance The Night (From Barbie The Album)           Dua Lipa   \n",
       "7                                       Cruel Summer       Taylor Swift   \n",
       "8                                           Daylight      David Kushner   \n",
       "9                                           Sprinter  Dave, Central Cee   \n",
       "\n",
       "   artist_count  released_year  released_month  released_day  \\\n",
       "0             2           2023               7            14   \n",
       "1             1           2022               3            31   \n",
       "2             1           2023               1            12   \n",
       "3             1           2023               6            30   \n",
       "4             1           2013               1             1   \n",
       "5             1           2023               7            13   \n",
       "6             1           2023               5            25   \n",
       "7             1           2019               8            23   \n",
       "8             1           2023               4            14   \n",
       "9             2           2023               6             1   \n",
       "\n",
       "   in_spotify_playlists  in_spotify_charts     streams  ...  bpm  key   mode  \\\n",
       "0                   553                147   141381703  ...  125    B  Major   \n",
       "1                 23575                130  2513188493  ...  174   F#  Minor   \n",
       "2                 12211                115  1316855716  ...  118  NaN  Major   \n",
       "3                  1397                113   140003974  ...  138    F  Major   \n",
       "4                 12859                110  1297026226  ...  135  NaN  Minor   \n",
       "5                   873                104    30546883  ...   78  NaN  Major   \n",
       "6                  2988                101   127408954  ...  110    B  Minor   \n",
       "7                  7858                100   800840817  ...  170    A  Major   \n",
       "8                  3528                 98   387570742  ...  130    D  Minor   \n",
       "9                  2186                 91   183706234  ...  141   C#  Major   \n",
       "\n",
       "   danceability_% valence_%  energy_% acousticness_% instrumentalness_%  \\\n",
       "0              80        89        83             31                  0   \n",
       "1              52        66        73             34                  0   \n",
       "2              71        65        68              6                  0   \n",
       "3              51        32        53             17                  0   \n",
       "4              48        44        42             12                  2   \n",
       "5              44        14         9             96                  0   \n",
       "6              67        78        85              2                  0   \n",
       "7              55        58        72             11                  0   \n",
       "8              51        32        43             83                  0   \n",
       "9              92        66        58             19                  0   \n",
       "\n",
       "   liveness_%  speechiness_%  \n",
       "0           8              4  \n",
       "1          31              6  \n",
       "2           3              7  \n",
       "3          31              6  \n",
       "4          11              3  \n",
       "5          10              3  \n",
       "6          33              5  \n",
       "7          11             15  \n",
       "8           9              3  \n",
       "9           8             24  \n",
       "\n",
       "[10 rows x 25 columns]"
      ]
     },
     "execution_count": 65,
     "metadata": {},
     "output_type": "execute_result"
    }
   ],
   "source": [
    "df_Spotify = pd.DataFrame(x)\n",
    "df_Spotify = df_Spotify.rename(columns={'option':'song_name'})\n",
    "df_Spotify.head(10)"
   ]
  },
  {
   "cell_type": "code",
   "execution_count": 63,
   "metadata": {},
   "outputs": [
    {
     "name": "stdout",
     "output_type": "stream",
     "text": [
      "mode\n",
      "Major    550\n",
      "Minor    403\n",
      "Name: count, dtype: int64\n"
     ]
    }
   ],
   "source": [
    "count_major_minor = df_Spotify['mode'].value_counts()[['Major', 'Minor']]"
   ]
  },
  {
   "cell_type": "code",
   "execution_count": 114,
   "metadata": {},
   "outputs": [
    {
     "data": {
      "text/plain": [
       "artist(s)_name\n",
       "Taylor Swift             34\n",
       "The Weeknd               22\n",
       "SZA                      19\n",
       "Bad Bunny                19\n",
       "Harry Styles             17\n",
       "                         ..\n",
       "TAEYANG, Lisa             1\n",
       "Lizzy McAlpine            1\n",
       "Ana Castela, AgroPlay     1\n",
       "Mc Livinho, DJ Matt D     1\n",
       "Feid, Sech, Jhayco        1\n",
       "Name: count, Length: 645, dtype: int64"
      ]
     },
     "execution_count": 114,
     "metadata": {},
     "output_type": "execute_result"
    }
   ],
   "source": [
    "artist_counts = df_Spotify['artist(s)_name'].value_counts()\n",
    "artist_counts"
   ]
  },
  {
   "cell_type": "code",
   "execution_count": 10,
   "metadata": {},
   "outputs": [
    {
     "data": {
      "text/plain": [
       "[39]"
      ]
     },
     "execution_count": 10,
     "metadata": {},
     "output_type": "execute_result"
    }
   ],
   "source": [
    "# Find the row number of the song with inaccurate information\n",
    "correction_value1 = \"Riptide\"\n",
    "row_number1 = df_Spotify.index[df_Spotify['song_name'] == correction_value1].tolist()\n",
    "row_number1"
   ]
  },
  {
   "cell_type": "code",
   "execution_count": 11,
   "metadata": {},
   "outputs": [
    {
     "data": {
      "text/plain": [
       "2013"
      ]
     },
     "execution_count": 11,
     "metadata": {},
     "output_type": "execute_result"
    }
   ],
   "source": [
    "df_Spotify.iat[39, 3] = 2013\n",
    "df_Spotify.iat[39, 3]"
   ]
  },
  {
   "cell_type": "code",
   "execution_count": 12,
   "metadata": {},
   "outputs": [
    {
     "data": {
      "text/plain": [
       "[703]"
      ]
     },
     "execution_count": 12,
     "metadata": {},
     "output_type": "execute_result"
    }
   ],
   "source": [
    "# Find the row number of the song with inaccurate information\n",
    "correction_value2 = \"Love Grows (Where My Rosemary Goes)\"\n",
    "row_number2 = df_Spotify.index[df_Spotify['song_name'] == correction_value2].tolist()\n",
    "row_number2"
   ]
  },
  {
   "cell_type": "code",
   "execution_count": 13,
   "metadata": {},
   "outputs": [
    {
     "data": {
      "text/plain": [
       "255230973"
      ]
     },
     "execution_count": 13,
     "metadata": {},
     "output_type": "execute_result"
    }
   ],
   "source": [
    "df_Spotify.iat[703, 8] = 255230973\n",
    "df_Spotify.iat[703, 8]"
   ]
  },
  {
   "cell_type": "code",
   "execution_count": 14,
   "metadata": {},
   "outputs": [
    {
     "data": {
      "text/plain": [
       "[]"
      ]
     },
     "execution_count": 14,
     "metadata": {},
     "output_type": "execute_result"
    }
   ],
   "source": [
    "# Find the row number of the song with inaccurate information\n",
    "correction_value3 = \"Styrx, utku INC, Thezth\"\n",
    "row_number3 = df_Spotify.index[df_Spotify['artist(s)_name'] == correction_value1].tolist()\n",
    "row_number3"
   ]
  },
  {
   "cell_type": "code",
   "execution_count": 15,
   "metadata": {},
   "outputs": [
    {
     "data": {
      "text/plain": [
       "2022"
      ]
     },
     "execution_count": 15,
     "metadata": {},
     "output_type": "execute_result"
    }
   ],
   "source": [
    "df_Spotify.iat[603, 8] = 2022\n",
    "df_Spotify.iat[603, 8]"
   ]
  },
  {
   "cell_type": "code",
   "execution_count": 77,
   "metadata": {},
   "outputs": [
    {
     "data": {
      "text/html": [
       "<div>\n",
       "<style scoped>\n",
       "    .dataframe tbody tr th:only-of-type {\n",
       "        vertical-align: middle;\n",
       "    }\n",
       "\n",
       "    .dataframe tbody tr th {\n",
       "        vertical-align: top;\n",
       "    }\n",
       "\n",
       "    .dataframe thead th {\n",
       "        text-align: right;\n",
       "    }\n",
       "</style>\n",
       "<table border=\"1\" class=\"dataframe\">\n",
       "  <thead>\n",
       "    <tr style=\"text-align: right;\">\n",
       "      <th></th>\n",
       "      <th>song_name</th>\n",
       "      <th>artist(s)_name</th>\n",
       "      <th>released_year</th>\n",
       "      <th>released_month</th>\n",
       "      <th>released_day</th>\n",
       "      <th>in_spotify_charts</th>\n",
       "      <th>streams</th>\n",
       "      <th>in_apple_charts</th>\n",
       "      <th>in_deezer_charts</th>\n",
       "      <th>in_shazam_charts</th>\n",
       "      <th>bpm</th>\n",
       "      <th>key</th>\n",
       "      <th>mode</th>\n",
       "    </tr>\n",
       "  </thead>\n",
       "  <tbody>\n",
       "    <tr>\n",
       "      <th>0</th>\n",
       "      <td>Seven (feat. Latto) (Explicit Ver.)</td>\n",
       "      <td>Latto, Jung Kook</td>\n",
       "      <td>2023</td>\n",
       "      <td>7</td>\n",
       "      <td>14</td>\n",
       "      <td>147</td>\n",
       "      <td>141381703</td>\n",
       "      <td>263</td>\n",
       "      <td>10</td>\n",
       "      <td>826</td>\n",
       "      <td>125</td>\n",
       "      <td>B</td>\n",
       "      <td>Major</td>\n",
       "    </tr>\n",
       "    <tr>\n",
       "      <th>1</th>\n",
       "      <td>As It Was</td>\n",
       "      <td>Harry Styles</td>\n",
       "      <td>2022</td>\n",
       "      <td>3</td>\n",
       "      <td>31</td>\n",
       "      <td>130</td>\n",
       "      <td>2513188493</td>\n",
       "      <td>198</td>\n",
       "      <td>46</td>\n",
       "      <td>NaN</td>\n",
       "      <td>174</td>\n",
       "      <td>F#</td>\n",
       "      <td>Minor</td>\n",
       "    </tr>\n",
       "    <tr>\n",
       "      <th>2</th>\n",
       "      <td>Flowers</td>\n",
       "      <td>Miley Cyrus</td>\n",
       "      <td>2023</td>\n",
       "      <td>1</td>\n",
       "      <td>12</td>\n",
       "      <td>115</td>\n",
       "      <td>1316855716</td>\n",
       "      <td>215</td>\n",
       "      <td>58</td>\n",
       "      <td>1,021</td>\n",
       "      <td>118</td>\n",
       "      <td>NaN</td>\n",
       "      <td>Major</td>\n",
       "    </tr>\n",
       "    <tr>\n",
       "      <th>3</th>\n",
       "      <td>vampire</td>\n",
       "      <td>Olivia Rodrigo</td>\n",
       "      <td>2023</td>\n",
       "      <td>6</td>\n",
       "      <td>30</td>\n",
       "      <td>113</td>\n",
       "      <td>140003974</td>\n",
       "      <td>207</td>\n",
       "      <td>14</td>\n",
       "      <td>949</td>\n",
       "      <td>138</td>\n",
       "      <td>F</td>\n",
       "      <td>Major</td>\n",
       "    </tr>\n",
       "    <tr>\n",
       "      <th>4</th>\n",
       "      <td>I Wanna Be Yours</td>\n",
       "      <td>Arctic Monkeys</td>\n",
       "      <td>2013</td>\n",
       "      <td>1</td>\n",
       "      <td>1</td>\n",
       "      <td>110</td>\n",
       "      <td>1297026226</td>\n",
       "      <td>98</td>\n",
       "      <td>2</td>\n",
       "      <td>73</td>\n",
       "      <td>135</td>\n",
       "      <td>NaN</td>\n",
       "      <td>Minor</td>\n",
       "    </tr>\n",
       "  </tbody>\n",
       "</table>\n",
       "</div>"
      ],
      "text/plain": [
       "                             song_name    artist(s)_name  released_year  \\\n",
       "0  Seven (feat. Latto) (Explicit Ver.)  Latto, Jung Kook           2023   \n",
       "1                            As It Was      Harry Styles           2022   \n",
       "2                              Flowers       Miley Cyrus           2023   \n",
       "3                              vampire    Olivia Rodrigo           2023   \n",
       "4                     I Wanna Be Yours    Arctic Monkeys           2013   \n",
       "\n",
       "   released_month  released_day in_spotify_charts     streams in_apple_charts  \\\n",
       "0               7            14               147   141381703             263   \n",
       "1               3            31               130  2513188493             198   \n",
       "2               1            12               115  1316855716             215   \n",
       "3               6            30               113   140003974             207   \n",
       "4               1             1               110  1297026226              98   \n",
       "\n",
       "  in_deezer_charts in_shazam_charts  bpm  key   mode  \n",
       "0               10              826  125    B  Major  \n",
       "1               46              NaN  174   F#  Minor  \n",
       "2               58            1,021  118  NaN  Major  \n",
       "3               14              949  138    F  Major  \n",
       "4                2               73  135  NaN  Minor  "
      ]
     },
     "execution_count": 77,
     "metadata": {},
     "output_type": "execute_result"
    }
   ],
   "source": [
    "df_streaming_charts = df_Spotify.drop(columns=[\"danceability_%\",\"valence_%\",\"energy_%\",\"acousticness_%\",\"instrumentalness_%\",\"liveness_%\",\"speechiness_%\",\"_id\", \"in_apple_playlists\", \"in_deezer_playlists\", \"artist_count\", \"in_spotify_playlists\"])\n",
    "df_streaming_charts.head()"
   ]
  },
  {
   "cell_type": "code",
   "execution_count": 117,
   "metadata": {},
   "outputs": [],
   "source": [
    "df_Spotify_2 = df_Spotify.head(10)"
   ]
  },
  {
   "cell_type": "code",
   "execution_count": 126,
   "metadata": {},
   "outputs": [
    {
     "data": {
      "application/vnd.plotly.v1+json": {
       "config": {
        "plotlyServerURL": "https://plot.ly"
       },
       "data": [
        {
         "alignmentgroup": "True",
         "hovertemplate": "song_name=%{x}<br>count=%{y}<extra></extra>",
         "legendgroup": "",
         "marker": {
          "color": "#636efa",
          "pattern": {
           "shape": ""
          }
         },
         "name": "",
         "offsetgroup": "",
         "orientation": "v",
         "showlegend": false,
         "textposition": "auto",
         "type": "bar",
         "x": [
          "Seven (feat. Latto) (Explicit Ver.)",
          "As It Was",
          "Flowers",
          "vampire",
          "I Wanna Be Yours",
          "What Was I Made For? [From The Motion Picture \"Barbie\"]",
          "Dance The Night (From Barbie The Album)",
          "Cruel Summer",
          "Daylight",
          "Sprinter"
         ],
         "xaxis": "x",
         "y": [
          1,
          1,
          1,
          1,
          1,
          1,
          1,
          1,
          1,
          1
         ],
         "yaxis": "y"
        }
       ],
       "layout": {
        "barmode": "group",
        "legend": {
         "tracegroupgap": 0
        },
        "template": {
         "data": {
          "bar": [
           {
            "error_x": {
             "color": "#2a3f5f"
            },
            "error_y": {
             "color": "#2a3f5f"
            },
            "marker": {
             "line": {
              "color": "#E5ECF6",
              "width": 0.5
             },
             "pattern": {
              "fillmode": "overlay",
              "size": 10,
              "solidity": 0.2
             }
            },
            "type": "bar"
           }
          ],
          "barpolar": [
           {
            "marker": {
             "line": {
              "color": "#E5ECF6",
              "width": 0.5
             },
             "pattern": {
              "fillmode": "overlay",
              "size": 10,
              "solidity": 0.2
             }
            },
            "type": "barpolar"
           }
          ],
          "carpet": [
           {
            "aaxis": {
             "endlinecolor": "#2a3f5f",
             "gridcolor": "white",
             "linecolor": "white",
             "minorgridcolor": "white",
             "startlinecolor": "#2a3f5f"
            },
            "baxis": {
             "endlinecolor": "#2a3f5f",
             "gridcolor": "white",
             "linecolor": "white",
             "minorgridcolor": "white",
             "startlinecolor": "#2a3f5f"
            },
            "type": "carpet"
           }
          ],
          "choropleth": [
           {
            "colorbar": {
             "outlinewidth": 0,
             "ticks": ""
            },
            "type": "choropleth"
           }
          ],
          "contour": [
           {
            "colorbar": {
             "outlinewidth": 0,
             "ticks": ""
            },
            "colorscale": [
             [
              0,
              "#0d0887"
             ],
             [
              0.1111111111111111,
              "#46039f"
             ],
             [
              0.2222222222222222,
              "#7201a8"
             ],
             [
              0.3333333333333333,
              "#9c179e"
             ],
             [
              0.4444444444444444,
              "#bd3786"
             ],
             [
              0.5555555555555556,
              "#d8576b"
             ],
             [
              0.6666666666666666,
              "#ed7953"
             ],
             [
              0.7777777777777778,
              "#fb9f3a"
             ],
             [
              0.8888888888888888,
              "#fdca26"
             ],
             [
              1,
              "#f0f921"
             ]
            ],
            "type": "contour"
           }
          ],
          "contourcarpet": [
           {
            "colorbar": {
             "outlinewidth": 0,
             "ticks": ""
            },
            "type": "contourcarpet"
           }
          ],
          "heatmap": [
           {
            "colorbar": {
             "outlinewidth": 0,
             "ticks": ""
            },
            "colorscale": [
             [
              0,
              "#0d0887"
             ],
             [
              0.1111111111111111,
              "#46039f"
             ],
             [
              0.2222222222222222,
              "#7201a8"
             ],
             [
              0.3333333333333333,
              "#9c179e"
             ],
             [
              0.4444444444444444,
              "#bd3786"
             ],
             [
              0.5555555555555556,
              "#d8576b"
             ],
             [
              0.6666666666666666,
              "#ed7953"
             ],
             [
              0.7777777777777778,
              "#fb9f3a"
             ],
             [
              0.8888888888888888,
              "#fdca26"
             ],
             [
              1,
              "#f0f921"
             ]
            ],
            "type": "heatmap"
           }
          ],
          "heatmapgl": [
           {
            "colorbar": {
             "outlinewidth": 0,
             "ticks": ""
            },
            "colorscale": [
             [
              0,
              "#0d0887"
             ],
             [
              0.1111111111111111,
              "#46039f"
             ],
             [
              0.2222222222222222,
              "#7201a8"
             ],
             [
              0.3333333333333333,
              "#9c179e"
             ],
             [
              0.4444444444444444,
              "#bd3786"
             ],
             [
              0.5555555555555556,
              "#d8576b"
             ],
             [
              0.6666666666666666,
              "#ed7953"
             ],
             [
              0.7777777777777778,
              "#fb9f3a"
             ],
             [
              0.8888888888888888,
              "#fdca26"
             ],
             [
              1,
              "#f0f921"
             ]
            ],
            "type": "heatmapgl"
           }
          ],
          "histogram": [
           {
            "marker": {
             "pattern": {
              "fillmode": "overlay",
              "size": 10,
              "solidity": 0.2
             }
            },
            "type": "histogram"
           }
          ],
          "histogram2d": [
           {
            "colorbar": {
             "outlinewidth": 0,
             "ticks": ""
            },
            "colorscale": [
             [
              0,
              "#0d0887"
             ],
             [
              0.1111111111111111,
              "#46039f"
             ],
             [
              0.2222222222222222,
              "#7201a8"
             ],
             [
              0.3333333333333333,
              "#9c179e"
             ],
             [
              0.4444444444444444,
              "#bd3786"
             ],
             [
              0.5555555555555556,
              "#d8576b"
             ],
             [
              0.6666666666666666,
              "#ed7953"
             ],
             [
              0.7777777777777778,
              "#fb9f3a"
             ],
             [
              0.8888888888888888,
              "#fdca26"
             ],
             [
              1,
              "#f0f921"
             ]
            ],
            "type": "histogram2d"
           }
          ],
          "histogram2dcontour": [
           {
            "colorbar": {
             "outlinewidth": 0,
             "ticks": ""
            },
            "colorscale": [
             [
              0,
              "#0d0887"
             ],
             [
              0.1111111111111111,
              "#46039f"
             ],
             [
              0.2222222222222222,
              "#7201a8"
             ],
             [
              0.3333333333333333,
              "#9c179e"
             ],
             [
              0.4444444444444444,
              "#bd3786"
             ],
             [
              0.5555555555555556,
              "#d8576b"
             ],
             [
              0.6666666666666666,
              "#ed7953"
             ],
             [
              0.7777777777777778,
              "#fb9f3a"
             ],
             [
              0.8888888888888888,
              "#fdca26"
             ],
             [
              1,
              "#f0f921"
             ]
            ],
            "type": "histogram2dcontour"
           }
          ],
          "mesh3d": [
           {
            "colorbar": {
             "outlinewidth": 0,
             "ticks": ""
            },
            "type": "mesh3d"
           }
          ],
          "parcoords": [
           {
            "line": {
             "colorbar": {
              "outlinewidth": 0,
              "ticks": ""
             }
            },
            "type": "parcoords"
           }
          ],
          "pie": [
           {
            "automargin": true,
            "type": "pie"
           }
          ],
          "scatter": [
           {
            "fillpattern": {
             "fillmode": "overlay",
             "size": 10,
             "solidity": 0.2
            },
            "type": "scatter"
           }
          ],
          "scatter3d": [
           {
            "line": {
             "colorbar": {
              "outlinewidth": 0,
              "ticks": ""
             }
            },
            "marker": {
             "colorbar": {
              "outlinewidth": 0,
              "ticks": ""
             }
            },
            "type": "scatter3d"
           }
          ],
          "scattercarpet": [
           {
            "marker": {
             "colorbar": {
              "outlinewidth": 0,
              "ticks": ""
             }
            },
            "type": "scattercarpet"
           }
          ],
          "scattergeo": [
           {
            "marker": {
             "colorbar": {
              "outlinewidth": 0,
              "ticks": ""
             }
            },
            "type": "scattergeo"
           }
          ],
          "scattergl": [
           {
            "marker": {
             "colorbar": {
              "outlinewidth": 0,
              "ticks": ""
             }
            },
            "type": "scattergl"
           }
          ],
          "scattermapbox": [
           {
            "marker": {
             "colorbar": {
              "outlinewidth": 0,
              "ticks": ""
             }
            },
            "type": "scattermapbox"
           }
          ],
          "scatterpolar": [
           {
            "marker": {
             "colorbar": {
              "outlinewidth": 0,
              "ticks": ""
             }
            },
            "type": "scatterpolar"
           }
          ],
          "scatterpolargl": [
           {
            "marker": {
             "colorbar": {
              "outlinewidth": 0,
              "ticks": ""
             }
            },
            "type": "scatterpolargl"
           }
          ],
          "scatterternary": [
           {
            "marker": {
             "colorbar": {
              "outlinewidth": 0,
              "ticks": ""
             }
            },
            "type": "scatterternary"
           }
          ],
          "surface": [
           {
            "colorbar": {
             "outlinewidth": 0,
             "ticks": ""
            },
            "colorscale": [
             [
              0,
              "#0d0887"
             ],
             [
              0.1111111111111111,
              "#46039f"
             ],
             [
              0.2222222222222222,
              "#7201a8"
             ],
             [
              0.3333333333333333,
              "#9c179e"
             ],
             [
              0.4444444444444444,
              "#bd3786"
             ],
             [
              0.5555555555555556,
              "#d8576b"
             ],
             [
              0.6666666666666666,
              "#ed7953"
             ],
             [
              0.7777777777777778,
              "#fb9f3a"
             ],
             [
              0.8888888888888888,
              "#fdca26"
             ],
             [
              1,
              "#f0f921"
             ]
            ],
            "type": "surface"
           }
          ],
          "table": [
           {
            "cells": {
             "fill": {
              "color": "#EBF0F8"
             },
             "line": {
              "color": "white"
             }
            },
            "header": {
             "fill": {
              "color": "#C8D4E3"
             },
             "line": {
              "color": "white"
             }
            },
            "type": "table"
           }
          ]
         },
         "layout": {
          "annotationdefaults": {
           "arrowcolor": "#2a3f5f",
           "arrowhead": 0,
           "arrowwidth": 1
          },
          "autotypenumbers": "strict",
          "coloraxis": {
           "colorbar": {
            "outlinewidth": 0,
            "ticks": ""
           }
          },
          "colorscale": {
           "diverging": [
            [
             0,
             "#8e0152"
            ],
            [
             0.1,
             "#c51b7d"
            ],
            [
             0.2,
             "#de77ae"
            ],
            [
             0.3,
             "#f1b6da"
            ],
            [
             0.4,
             "#fde0ef"
            ],
            [
             0.5,
             "#f7f7f7"
            ],
            [
             0.6,
             "#e6f5d0"
            ],
            [
             0.7,
             "#b8e186"
            ],
            [
             0.8,
             "#7fbc41"
            ],
            [
             0.9,
             "#4d9221"
            ],
            [
             1,
             "#276419"
            ]
           ],
           "sequential": [
            [
             0,
             "#0d0887"
            ],
            [
             0.1111111111111111,
             "#46039f"
            ],
            [
             0.2222222222222222,
             "#7201a8"
            ],
            [
             0.3333333333333333,
             "#9c179e"
            ],
            [
             0.4444444444444444,
             "#bd3786"
            ],
            [
             0.5555555555555556,
             "#d8576b"
            ],
            [
             0.6666666666666666,
             "#ed7953"
            ],
            [
             0.7777777777777778,
             "#fb9f3a"
            ],
            [
             0.8888888888888888,
             "#fdca26"
            ],
            [
             1,
             "#f0f921"
            ]
           ],
           "sequentialminus": [
            [
             0,
             "#0d0887"
            ],
            [
             0.1111111111111111,
             "#46039f"
            ],
            [
             0.2222222222222222,
             "#7201a8"
            ],
            [
             0.3333333333333333,
             "#9c179e"
            ],
            [
             0.4444444444444444,
             "#bd3786"
            ],
            [
             0.5555555555555556,
             "#d8576b"
            ],
            [
             0.6666666666666666,
             "#ed7953"
            ],
            [
             0.7777777777777778,
             "#fb9f3a"
            ],
            [
             0.8888888888888888,
             "#fdca26"
            ],
            [
             1,
             "#f0f921"
            ]
           ]
          },
          "colorway": [
           "#636efa",
           "#EF553B",
           "#00cc96",
           "#ab63fa",
           "#FFA15A",
           "#19d3f3",
           "#FF6692",
           "#B6E880",
           "#FF97FF",
           "#FECB52"
          ],
          "font": {
           "color": "#2a3f5f"
          },
          "geo": {
           "bgcolor": "white",
           "lakecolor": "white",
           "landcolor": "#E5ECF6",
           "showlakes": true,
           "showland": true,
           "subunitcolor": "white"
          },
          "hoverlabel": {
           "align": "left"
          },
          "hovermode": "closest",
          "mapbox": {
           "style": "light"
          },
          "paper_bgcolor": "white",
          "plot_bgcolor": "#E5ECF6",
          "polar": {
           "angularaxis": {
            "gridcolor": "white",
            "linecolor": "white",
            "ticks": ""
           },
           "bgcolor": "#E5ECF6",
           "radialaxis": {
            "gridcolor": "white",
            "linecolor": "white",
            "ticks": ""
           }
          },
          "scene": {
           "xaxis": {
            "backgroundcolor": "#E5ECF6",
            "gridcolor": "white",
            "gridwidth": 2,
            "linecolor": "white",
            "showbackground": true,
            "ticks": "",
            "zerolinecolor": "white"
           },
           "yaxis": {
            "backgroundcolor": "#E5ECF6",
            "gridcolor": "white",
            "gridwidth": 2,
            "linecolor": "white",
            "showbackground": true,
            "ticks": "",
            "zerolinecolor": "white"
           },
           "zaxis": {
            "backgroundcolor": "#E5ECF6",
            "gridcolor": "white",
            "gridwidth": 2,
            "linecolor": "white",
            "showbackground": true,
            "ticks": "",
            "zerolinecolor": "white"
           }
          },
          "shapedefaults": {
           "line": {
            "color": "#2a3f5f"
           }
          },
          "ternary": {
           "aaxis": {
            "gridcolor": "white",
            "linecolor": "white",
            "ticks": ""
           },
           "baxis": {
            "gridcolor": "white",
            "linecolor": "white",
            "ticks": ""
           },
           "bgcolor": "#E5ECF6",
           "caxis": {
            "gridcolor": "white",
            "linecolor": "white",
            "ticks": ""
           }
          },
          "title": {
           "x": 0.05
          },
          "xaxis": {
           "automargin": true,
           "gridcolor": "white",
           "linecolor": "white",
           "ticks": "",
           "title": {
            "standoff": 15
           },
           "zerolinecolor": "white",
           "zerolinewidth": 2
          },
          "yaxis": {
           "automargin": true,
           "gridcolor": "white",
           "linecolor": "white",
           "ticks": "",
           "title": {
            "standoff": 15
           },
           "zerolinecolor": "white",
           "zerolinewidth": 2
          }
         }
        },
        "title": {
         "text": "Song Popularity Metrics"
        },
        "updatemenus": [
         {
          "buttons": [
           {
            "args": [
             {
              "title": "danceability_%",
              "x": [
               [
                "Seven (feat. Latto) (Explicit Ver.)",
                "As It Was",
                "Flowers",
                "vampire",
                "I Wanna Be Yours",
                "What Was I Made For? [From The Motion Picture \"Barbie\"]",
                "Dance The Night (From Barbie The Album)",
                "Cruel Summer",
                "Daylight",
                "Sprinter"
               ]
              ],
              "y": [
               [
                80,
                52,
                71,
                51,
                48,
                44,
                67,
                55,
                51,
                92
               ]
              ]
             }
            ],
            "label": "Danceability",
            "method": "update"
           },
           {
            "args": [
             {
              "title": "valence_%",
              "x": [
               [
                "Seven (feat. Latto) (Explicit Ver.)",
                "As It Was",
                "Flowers",
                "vampire",
                "I Wanna Be Yours",
                "What Was I Made For? [From The Motion Picture \"Barbie\"]",
                "Dance The Night (From Barbie The Album)",
                "Cruel Summer",
                "Daylight",
                "Sprinter"
               ]
              ],
              "y": [
               [
                89,
                66,
                65,
                32,
                44,
                14,
                78,
                58,
                32,
                66
               ]
              ]
             }
            ],
            "label": "Valence",
            "method": "update"
           },
           {
            "args": [
             {
              "title": "energy_%",
              "x": [
               [
                "Seven (feat. Latto) (Explicit Ver.)",
                "As It Was",
                "Flowers",
                "vampire",
                "I Wanna Be Yours",
                "What Was I Made For? [From The Motion Picture \"Barbie\"]",
                "Dance The Night (From Barbie The Album)",
                "Cruel Summer",
                "Daylight",
                "Sprinter"
               ]
              ],
              "y": [
               [
                83,
                73,
                68,
                53,
                42,
                9,
                85,
                72,
                43,
                58
               ]
              ]
             }
            ],
            "label": "Energy",
            "method": "update"
           },
           {
            "args": [
             {
              "title": "acousticness_%",
              "x": [
               [
                "Seven (feat. Latto) (Explicit Ver.)",
                "As It Was",
                "Flowers",
                "vampire",
                "I Wanna Be Yours",
                "What Was I Made For? [From The Motion Picture \"Barbie\"]",
                "Dance The Night (From Barbie The Album)",
                "Cruel Summer",
                "Daylight",
                "Sprinter"
               ]
              ],
              "y": [
               [
                31,
                34,
                6,
                17,
                12,
                96,
                2,
                11,
                83,
                19
               ]
              ]
             }
            ],
            "label": "Acousticness",
            "method": "update"
           },
           {
            "args": [
             {
              "title": "instrumentalness_%",
              "x": [
               [
                "Seven (feat. Latto) (Explicit Ver.)",
                "As It Was",
                "Flowers",
                "vampire",
                "I Wanna Be Yours",
                "What Was I Made For? [From The Motion Picture \"Barbie\"]",
                "Dance The Night (From Barbie The Album)",
                "Cruel Summer",
                "Daylight",
                "Sprinter"
               ]
              ],
              "y": [
               [
                0,
                0,
                0,
                0,
                2,
                0,
                0,
                0,
                0,
                0
               ]
              ]
             }
            ],
            "label": "Instrumentalness",
            "method": "update"
           },
           {
            "args": [
             {
              "title": "liveness_%",
              "x": [
               [
                "Seven (feat. Latto) (Explicit Ver.)",
                "As It Was",
                "Flowers",
                "vampire",
                "I Wanna Be Yours",
                "What Was I Made For? [From The Motion Picture \"Barbie\"]",
                "Dance The Night (From Barbie The Album)",
                "Cruel Summer",
                "Daylight",
                "Sprinter"
               ]
              ],
              "y": [
               [
                8,
                31,
                3,
                31,
                11,
                10,
                33,
                11,
                9,
                8
               ]
              ]
             }
            ],
            "label": "Liveness",
            "method": "update"
           },
           {
            "args": [
             {
              "title": "speechiness_%",
              "x": [
               [
                "Seven (feat. Latto) (Explicit Ver.)",
                "As It Was",
                "Flowers",
                "vampire",
                "I Wanna Be Yours",
                "What Was I Made For? [From The Motion Picture \"Barbie\"]",
                "Dance The Night (From Barbie The Album)",
                "Cruel Summer",
                "Daylight",
                "Sprinter"
               ]
              ],
              "y": [
               [
                4,
                6,
                7,
                6,
                3,
                3,
                5,
                15,
                3,
                24
               ]
              ]
             }
            ],
            "label": "Speechiness",
            "method": "update"
           }
          ]
         }
        ],
        "xaxis": {
         "anchor": "y",
         "domain": [
          0,
          1
         ],
         "title": {
          "text": "song_name"
         }
        },
        "yaxis": {
         "anchor": "x",
         "domain": [
          0,
          1
         ],
         "title": {
          "text": "score"
         }
        }
       }
      }
     },
     "metadata": {},
     "output_type": "display_data"
    }
   ],
   "source": [
    "fig = px.bar(df_Spotify_2, x='song_name', barmode='group', title='Song Popularity Metrics', labels={'x':'song_name'})\n",
    "\n",
    "# Update the layout to add dropdown menu for switching between different criteria\n",
    "fig.update_layout(\n",
    "    yaxis = {'title':'score'},\n",
    "    updatemenus=[\n",
    "        {\n",
    "            'buttons': [\n",
    "                {\n",
    "                    'label': 'Danceability',\n",
    "                    'method': 'update',\n",
    "                    'args': [{'y': [df_Spotify_2['danceability_%']],'x': [df_Spotify_2['song_name']], 'title': 'danceability_%'}]\n",
    "                },\n",
    "                {\n",
    "                    'label': 'Valence',\n",
    "                    'method': 'update',\n",
    "                    'args': [{'y': [df_Spotify_2['valence_%']], 'x': [df_Spotify_2['song_name']], 'title': 'valence_%'}]\n",
    "                },\n",
    "                {\n",
    "                    'label': 'Energy',\n",
    "                    'method': 'update',\n",
    "                    'args': [{'y': [df_Spotify_2['energy_%']], 'x': [df_Spotify_2['song_name']], 'title': 'energy_%'}]\n",
    "                },\n",
    "                {\n",
    "                    'label': 'Acousticness',\n",
    "                    'method': 'update',\n",
    "                    'args': [{'y': [df_Spotify_2['acousticness_%']], 'x': [df_Spotify_2['song_name']], 'title': 'acousticness_%'}]\n",
    "                },\n",
    "                {\n",
    "                    'label': 'Instrumentalness',\n",
    "                    'method': 'update',\n",
    "                    'args': [{'y': [df_Spotify_2['instrumentalness_%']], 'x': [df_Spotify_2['song_name']], 'title': 'instrumentalness_%'}]\n",
    "                },\n",
    "                {\n",
    "                    'label': 'Liveness',\n",
    "                    'method': 'update',\n",
    "                    'args': [{'y': [df_Spotify_2['liveness_%']], 'x': [df_Spotify_2['song_name']], 'title': 'liveness_%'}]\n",
    "                },\n",
    "                {\n",
    "                    'label': 'Speechiness',\n",
    "                    'method': 'update',\n",
    "                    'args': [{'y': [df_Spotify_2['speechiness_%']], 'x': [df_Spotify_2['song_name']], 'title': 'speechiness_%'}]\n",
    "                }\n",
    "            ]\n",
    "        }\n",
    "    ]\n",
    ")\n",
    "fig.show()"
   ]
  },
  {
   "cell_type": "code",
   "execution_count": 108,
   "metadata": {},
   "outputs": [
    {
     "data": {
      "application/vnd.plotly.v1+json": {
       "config": {
        "plotlyServerURL": "https://plot.ly"
       },
       "data": [
        {
         "alignmentgroup": "True",
         "hovertemplate": "song_name=%{text}<br>count=%{y}<extra></extra>",
         "legendgroup": "",
         "marker": {
          "color": "#636efa",
          "pattern": {
           "shape": ""
          }
         },
         "name": "",
         "offsetgroup": "",
         "orientation": "v",
         "showlegend": false,
         "text": [
          "Seven (feat. Latto) (Explicit Ver.)",
          "As It Was",
          "Flowers",
          "vampire",
          "I Wanna Be Yours",
          "What Was I Made For? [From The Motion Picture \"Barbie\"]",
          "Dance The Night (From Barbie The Album)",
          "Cruel Summer",
          "Daylight",
          "Sprinter",
          "Creepin'",
          "Popular (with Playboi Carti & Madonna) - The Idol Vol. 1 (Music from the HBO Original Series)",
          "fukumean",
          "Another Love",
          "I'm Good (Blue)",
          "Barbie World (with Aqua) [From Barbie The Album]",
          "Starboy",
          "Rush",
          "Sunflower - Spider-Man: Into the Spider-Verse",
          "Kill Bill",
          "Cupid - Twin Ver.",
          "Calm Down (with Selena Gomez)",
          "I Ain't Worried",
          "Blinding Lights",
          "Bite Me",
          "Like Crazy",
          "Baby Don't Hurt Me",
          "See You Again",
          "Heat Waves",
          "Viva La Vida",
          "Sweater Weather",
          "Mockingbird",
          "Die For You",
          "(It Goes Like) Nanana - Edit",
          "Tattoo",
          "Too Many Nights (feat. Don Toliver & with Future)",
          "Anti-Hero",
          "People",
          "Super Shy",
          "Riptide",
          "Blank Space",
          "Someone You Loved",
          "Makeba",
          "Summertime Sadness",
          "Cold Heart - PNAU Remix",
          "Can't Hold Us (feat. Ray Dalton)",
          "WHERE SHE GOES",
          "Ella Baila Sola",
          "BESO",
          "MONTAGEM - FR PUNK",
          "TQG",
          "LALA",
          "Miracle (with Ellie Goulding)",
          "Die For You - Remix",
          "Take Two",
          "Say Yes To Heaven",
          "Radio",
          "Trance (with Travis Scott & Young Thug)",
          "La Bachata",
          "Quevedo: Bzrp Music Sessions, Vol. 52",
          "La Bebe - Remix",
          "El Merengue",
          "Bones",
          "Shakira: Bzrp Music Sessions, Vol. 53",
          "Doja",
          "Where Are You Now",
          "Columbia",
          "Yellow",
          "Me Porto Bonito",
          "Set Fire to the Rain",
          "Without Me",
          "Counting Stars",
          "Style",
          "Moonlight",
          "Unholy (feat. Kim Petras)",
          "Titi Me Preguntï¿",
          "S91",
          "Boy's a liar Pt. 2",
          "un x100to",
          "Classy 101",
          "Peso Pluma: Bzrp Music Sessions, Vol. 55",
          "MOJABI GHOST",
          "AMARGURA",
          "Left and Right (Feat. Jung Kook of BTS)",
          "Still With You",
          "Chemical",
          "I Can See You (Taylorï¿½ï¿½ï¿½s Version) (From The ",
          "El Cielo",
          "Hey Mor",
          "Yandel 150",
          "Coco Chanel",
          "Rara Vez",
          "Feliz Cumpleaï¿½ï¿½os Fe",
          "Ojitos Lindos",
          "Danza Kuduro",
          "LA INOCENTE",
          "Overdrive",
          "golden hour",
          "STAY (with Justin Bieber)",
          "No Role Modelz"
         ],
         "textposition": "auto",
         "type": "bar",
         "x": [
          "Seven (feat. Latto) (Explicit Ver.)",
          "As It Was",
          "Flowers",
          "vampire",
          "I Wanna Be Yours",
          "What Was I Made For? [From The Motion Picture \"Barbie\"]",
          "Dance The Night (From Barbie The Album)",
          "Cruel Summer",
          "Daylight",
          "Sprinter",
          "Creepin'",
          "Popular (with Playboi Carti & Madonna) - The Idol Vol. 1 (Music from the HBO Original Series)",
          "fukumean",
          "Another Love",
          "I'm Good (Blue)",
          "Barbie World (with Aqua) [From Barbie The Album]",
          "Starboy",
          "Rush",
          "Sunflower - Spider-Man: Into the Spider-Verse",
          "Kill Bill",
          "Cupid - Twin Ver.",
          "Calm Down (with Selena Gomez)",
          "I Ain't Worried",
          "Blinding Lights",
          "Bite Me",
          "Like Crazy",
          "Baby Don't Hurt Me",
          "See You Again",
          "Heat Waves",
          "Viva La Vida",
          "Sweater Weather",
          "Mockingbird",
          "Die For You",
          "(It Goes Like) Nanana - Edit",
          "Tattoo",
          "Too Many Nights (feat. Don Toliver & with Future)",
          "Anti-Hero",
          "People",
          "Super Shy",
          "Riptide",
          "Blank Space",
          "Someone You Loved",
          "Makeba",
          "Summertime Sadness",
          "Cold Heart - PNAU Remix",
          "Can't Hold Us (feat. Ray Dalton)",
          "WHERE SHE GOES",
          "Ella Baila Sola",
          "BESO",
          "MONTAGEM - FR PUNK",
          "TQG",
          "LALA",
          "Miracle (with Ellie Goulding)",
          "Die For You - Remix",
          "Take Two",
          "Say Yes To Heaven",
          "Radio",
          "Trance (with Travis Scott & Young Thug)",
          "La Bachata",
          "Quevedo: Bzrp Music Sessions, Vol. 52",
          "La Bebe - Remix",
          "El Merengue",
          "Bones",
          "Shakira: Bzrp Music Sessions, Vol. 53",
          "Doja",
          "Where Are You Now",
          "Columbia",
          "Yellow",
          "Me Porto Bonito",
          "Set Fire to the Rain",
          "Without Me",
          "Counting Stars",
          "Style",
          "Moonlight",
          "Unholy (feat. Kim Petras)",
          "Titi Me Preguntï¿",
          "S91",
          "Boy's a liar Pt. 2",
          "un x100to",
          "Classy 101",
          "Peso Pluma: Bzrp Music Sessions, Vol. 55",
          "MOJABI GHOST",
          "AMARGURA",
          "Left and Right (Feat. Jung Kook of BTS)",
          "Still With You",
          "Chemical",
          "I Can See You (Taylorï¿½ï¿½ï¿½s Version) (From The ",
          "El Cielo",
          "Hey Mor",
          "Yandel 150",
          "Coco Chanel",
          "Rara Vez",
          "Feliz Cumpleaï¿½ï¿½os Fe",
          "Ojitos Lindos",
          "Danza Kuduro",
          "LA INOCENTE",
          "Overdrive",
          "golden hour",
          "STAY (with Justin Bieber)",
          "No Role Modelz"
         ],
         "xaxis": "x",
         "y": [
          1,
          1,
          1,
          1,
          1,
          1,
          1,
          1,
          1,
          1,
          1,
          1,
          1,
          1,
          1,
          1,
          1,
          1,
          1,
          1,
          1,
          1,
          1,
          1,
          1,
          1,
          1,
          1,
          1,
          1,
          1,
          1,
          1,
          1,
          1,
          1,
          1,
          1,
          1,
          1,
          1,
          1,
          1,
          1,
          1,
          1,
          1,
          1,
          1,
          1,
          1,
          1,
          1,
          1,
          1,
          1,
          1,
          1,
          1,
          1,
          1,
          1,
          1,
          1,
          1,
          1,
          1,
          1,
          1,
          1,
          1,
          1,
          1,
          1,
          1,
          1,
          1,
          1,
          1,
          1,
          1,
          1,
          1,
          1,
          1,
          1,
          1,
          1,
          1,
          1,
          1,
          1,
          1,
          1,
          1,
          1,
          1,
          1,
          1,
          1
         ],
         "yaxis": "y"
        }
       ],
       "layout": {
        "barmode": "group",
        "legend": {
         "tracegroupgap": 0
        },
        "template": {
         "data": {
          "bar": [
           {
            "error_x": {
             "color": "#2a3f5f"
            },
            "error_y": {
             "color": "#2a3f5f"
            },
            "marker": {
             "line": {
              "color": "#E5ECF6",
              "width": 0.5
             },
             "pattern": {
              "fillmode": "overlay",
              "size": 10,
              "solidity": 0.2
             }
            },
            "type": "bar"
           }
          ],
          "barpolar": [
           {
            "marker": {
             "line": {
              "color": "#E5ECF6",
              "width": 0.5
             },
             "pattern": {
              "fillmode": "overlay",
              "size": 10,
              "solidity": 0.2
             }
            },
            "type": "barpolar"
           }
          ],
          "carpet": [
           {
            "aaxis": {
             "endlinecolor": "#2a3f5f",
             "gridcolor": "white",
             "linecolor": "white",
             "minorgridcolor": "white",
             "startlinecolor": "#2a3f5f"
            },
            "baxis": {
             "endlinecolor": "#2a3f5f",
             "gridcolor": "white",
             "linecolor": "white",
             "minorgridcolor": "white",
             "startlinecolor": "#2a3f5f"
            },
            "type": "carpet"
           }
          ],
          "choropleth": [
           {
            "colorbar": {
             "outlinewidth": 0,
             "ticks": ""
            },
            "type": "choropleth"
           }
          ],
          "contour": [
           {
            "colorbar": {
             "outlinewidth": 0,
             "ticks": ""
            },
            "colorscale": [
             [
              0,
              "#0d0887"
             ],
             [
              0.1111111111111111,
              "#46039f"
             ],
             [
              0.2222222222222222,
              "#7201a8"
             ],
             [
              0.3333333333333333,
              "#9c179e"
             ],
             [
              0.4444444444444444,
              "#bd3786"
             ],
             [
              0.5555555555555556,
              "#d8576b"
             ],
             [
              0.6666666666666666,
              "#ed7953"
             ],
             [
              0.7777777777777778,
              "#fb9f3a"
             ],
             [
              0.8888888888888888,
              "#fdca26"
             ],
             [
              1,
              "#f0f921"
             ]
            ],
            "type": "contour"
           }
          ],
          "contourcarpet": [
           {
            "colorbar": {
             "outlinewidth": 0,
             "ticks": ""
            },
            "type": "contourcarpet"
           }
          ],
          "heatmap": [
           {
            "colorbar": {
             "outlinewidth": 0,
             "ticks": ""
            },
            "colorscale": [
             [
              0,
              "#0d0887"
             ],
             [
              0.1111111111111111,
              "#46039f"
             ],
             [
              0.2222222222222222,
              "#7201a8"
             ],
             [
              0.3333333333333333,
              "#9c179e"
             ],
             [
              0.4444444444444444,
              "#bd3786"
             ],
             [
              0.5555555555555556,
              "#d8576b"
             ],
             [
              0.6666666666666666,
              "#ed7953"
             ],
             [
              0.7777777777777778,
              "#fb9f3a"
             ],
             [
              0.8888888888888888,
              "#fdca26"
             ],
             [
              1,
              "#f0f921"
             ]
            ],
            "type": "heatmap"
           }
          ],
          "heatmapgl": [
           {
            "colorbar": {
             "outlinewidth": 0,
             "ticks": ""
            },
            "colorscale": [
             [
              0,
              "#0d0887"
             ],
             [
              0.1111111111111111,
              "#46039f"
             ],
             [
              0.2222222222222222,
              "#7201a8"
             ],
             [
              0.3333333333333333,
              "#9c179e"
             ],
             [
              0.4444444444444444,
              "#bd3786"
             ],
             [
              0.5555555555555556,
              "#d8576b"
             ],
             [
              0.6666666666666666,
              "#ed7953"
             ],
             [
              0.7777777777777778,
              "#fb9f3a"
             ],
             [
              0.8888888888888888,
              "#fdca26"
             ],
             [
              1,
              "#f0f921"
             ]
            ],
            "type": "heatmapgl"
           }
          ],
          "histogram": [
           {
            "marker": {
             "pattern": {
              "fillmode": "overlay",
              "size": 10,
              "solidity": 0.2
             }
            },
            "type": "histogram"
           }
          ],
          "histogram2d": [
           {
            "colorbar": {
             "outlinewidth": 0,
             "ticks": ""
            },
            "colorscale": [
             [
              0,
              "#0d0887"
             ],
             [
              0.1111111111111111,
              "#46039f"
             ],
             [
              0.2222222222222222,
              "#7201a8"
             ],
             [
              0.3333333333333333,
              "#9c179e"
             ],
             [
              0.4444444444444444,
              "#bd3786"
             ],
             [
              0.5555555555555556,
              "#d8576b"
             ],
             [
              0.6666666666666666,
              "#ed7953"
             ],
             [
              0.7777777777777778,
              "#fb9f3a"
             ],
             [
              0.8888888888888888,
              "#fdca26"
             ],
             [
              1,
              "#f0f921"
             ]
            ],
            "type": "histogram2d"
           }
          ],
          "histogram2dcontour": [
           {
            "colorbar": {
             "outlinewidth": 0,
             "ticks": ""
            },
            "colorscale": [
             [
              0,
              "#0d0887"
             ],
             [
              0.1111111111111111,
              "#46039f"
             ],
             [
              0.2222222222222222,
              "#7201a8"
             ],
             [
              0.3333333333333333,
              "#9c179e"
             ],
             [
              0.4444444444444444,
              "#bd3786"
             ],
             [
              0.5555555555555556,
              "#d8576b"
             ],
             [
              0.6666666666666666,
              "#ed7953"
             ],
             [
              0.7777777777777778,
              "#fb9f3a"
             ],
             [
              0.8888888888888888,
              "#fdca26"
             ],
             [
              1,
              "#f0f921"
             ]
            ],
            "type": "histogram2dcontour"
           }
          ],
          "mesh3d": [
           {
            "colorbar": {
             "outlinewidth": 0,
             "ticks": ""
            },
            "type": "mesh3d"
           }
          ],
          "parcoords": [
           {
            "line": {
             "colorbar": {
              "outlinewidth": 0,
              "ticks": ""
             }
            },
            "type": "parcoords"
           }
          ],
          "pie": [
           {
            "automargin": true,
            "type": "pie"
           }
          ],
          "scatter": [
           {
            "fillpattern": {
             "fillmode": "overlay",
             "size": 10,
             "solidity": 0.2
            },
            "type": "scatter"
           }
          ],
          "scatter3d": [
           {
            "line": {
             "colorbar": {
              "outlinewidth": 0,
              "ticks": ""
             }
            },
            "marker": {
             "colorbar": {
              "outlinewidth": 0,
              "ticks": ""
             }
            },
            "type": "scatter3d"
           }
          ],
          "scattercarpet": [
           {
            "marker": {
             "colorbar": {
              "outlinewidth": 0,
              "ticks": ""
             }
            },
            "type": "scattercarpet"
           }
          ],
          "scattergeo": [
           {
            "marker": {
             "colorbar": {
              "outlinewidth": 0,
              "ticks": ""
             }
            },
            "type": "scattergeo"
           }
          ],
          "scattergl": [
           {
            "marker": {
             "colorbar": {
              "outlinewidth": 0,
              "ticks": ""
             }
            },
            "type": "scattergl"
           }
          ],
          "scattermapbox": [
           {
            "marker": {
             "colorbar": {
              "outlinewidth": 0,
              "ticks": ""
             }
            },
            "type": "scattermapbox"
           }
          ],
          "scatterpolar": [
           {
            "marker": {
             "colorbar": {
              "outlinewidth": 0,
              "ticks": ""
             }
            },
            "type": "scatterpolar"
           }
          ],
          "scatterpolargl": [
           {
            "marker": {
             "colorbar": {
              "outlinewidth": 0,
              "ticks": ""
             }
            },
            "type": "scatterpolargl"
           }
          ],
          "scatterternary": [
           {
            "marker": {
             "colorbar": {
              "outlinewidth": 0,
              "ticks": ""
             }
            },
            "type": "scatterternary"
           }
          ],
          "surface": [
           {
            "colorbar": {
             "outlinewidth": 0,
             "ticks": ""
            },
            "colorscale": [
             [
              0,
              "#0d0887"
             ],
             [
              0.1111111111111111,
              "#46039f"
             ],
             [
              0.2222222222222222,
              "#7201a8"
             ],
             [
              0.3333333333333333,
              "#9c179e"
             ],
             [
              0.4444444444444444,
              "#bd3786"
             ],
             [
              0.5555555555555556,
              "#d8576b"
             ],
             [
              0.6666666666666666,
              "#ed7953"
             ],
             [
              0.7777777777777778,
              "#fb9f3a"
             ],
             [
              0.8888888888888888,
              "#fdca26"
             ],
             [
              1,
              "#f0f921"
             ]
            ],
            "type": "surface"
           }
          ],
          "table": [
           {
            "cells": {
             "fill": {
              "color": "#EBF0F8"
             },
             "line": {
              "color": "white"
             }
            },
            "header": {
             "fill": {
              "color": "#C8D4E3"
             },
             "line": {
              "color": "white"
             }
            },
            "type": "table"
           }
          ]
         },
         "layout": {
          "annotationdefaults": {
           "arrowcolor": "#2a3f5f",
           "arrowhead": 0,
           "arrowwidth": 1
          },
          "autotypenumbers": "strict",
          "coloraxis": {
           "colorbar": {
            "outlinewidth": 0,
            "ticks": ""
           }
          },
          "colorscale": {
           "diverging": [
            [
             0,
             "#8e0152"
            ],
            [
             0.1,
             "#c51b7d"
            ],
            [
             0.2,
             "#de77ae"
            ],
            [
             0.3,
             "#f1b6da"
            ],
            [
             0.4,
             "#fde0ef"
            ],
            [
             0.5,
             "#f7f7f7"
            ],
            [
             0.6,
             "#e6f5d0"
            ],
            [
             0.7,
             "#b8e186"
            ],
            [
             0.8,
             "#7fbc41"
            ],
            [
             0.9,
             "#4d9221"
            ],
            [
             1,
             "#276419"
            ]
           ],
           "sequential": [
            [
             0,
             "#0d0887"
            ],
            [
             0.1111111111111111,
             "#46039f"
            ],
            [
             0.2222222222222222,
             "#7201a8"
            ],
            [
             0.3333333333333333,
             "#9c179e"
            ],
            [
             0.4444444444444444,
             "#bd3786"
            ],
            [
             0.5555555555555556,
             "#d8576b"
            ],
            [
             0.6666666666666666,
             "#ed7953"
            ],
            [
             0.7777777777777778,
             "#fb9f3a"
            ],
            [
             0.8888888888888888,
             "#fdca26"
            ],
            [
             1,
             "#f0f921"
            ]
           ],
           "sequentialminus": [
            [
             0,
             "#0d0887"
            ],
            [
             0.1111111111111111,
             "#46039f"
            ],
            [
             0.2222222222222222,
             "#7201a8"
            ],
            [
             0.3333333333333333,
             "#9c179e"
            ],
            [
             0.4444444444444444,
             "#bd3786"
            ],
            [
             0.5555555555555556,
             "#d8576b"
            ],
            [
             0.6666666666666666,
             "#ed7953"
            ],
            [
             0.7777777777777778,
             "#fb9f3a"
            ],
            [
             0.8888888888888888,
             "#fdca26"
            ],
            [
             1,
             "#f0f921"
            ]
           ]
          },
          "colorway": [
           "#636efa",
           "#EF553B",
           "#00cc96",
           "#ab63fa",
           "#FFA15A",
           "#19d3f3",
           "#FF6692",
           "#B6E880",
           "#FF97FF",
           "#FECB52"
          ],
          "font": {
           "color": "#2a3f5f"
          },
          "geo": {
           "bgcolor": "white",
           "lakecolor": "white",
           "landcolor": "#E5ECF6",
           "showlakes": true,
           "showland": true,
           "subunitcolor": "white"
          },
          "hoverlabel": {
           "align": "left"
          },
          "hovermode": "closest",
          "mapbox": {
           "style": "light"
          },
          "paper_bgcolor": "white",
          "plot_bgcolor": "#E5ECF6",
          "polar": {
           "angularaxis": {
            "gridcolor": "white",
            "linecolor": "white",
            "ticks": ""
           },
           "bgcolor": "#E5ECF6",
           "radialaxis": {
            "gridcolor": "white",
            "linecolor": "white",
            "ticks": ""
           }
          },
          "scene": {
           "xaxis": {
            "backgroundcolor": "#E5ECF6",
            "gridcolor": "white",
            "gridwidth": 2,
            "linecolor": "white",
            "showbackground": true,
            "ticks": "",
            "zerolinecolor": "white"
           },
           "yaxis": {
            "backgroundcolor": "#E5ECF6",
            "gridcolor": "white",
            "gridwidth": 2,
            "linecolor": "white",
            "showbackground": true,
            "ticks": "",
            "zerolinecolor": "white"
           },
           "zaxis": {
            "backgroundcolor": "#E5ECF6",
            "gridcolor": "white",
            "gridwidth": 2,
            "linecolor": "white",
            "showbackground": true,
            "ticks": "",
            "zerolinecolor": "white"
           }
          },
          "shapedefaults": {
           "line": {
            "color": "#2a3f5f"
           }
          },
          "ternary": {
           "aaxis": {
            "gridcolor": "white",
            "linecolor": "white",
            "ticks": ""
           },
           "baxis": {
            "gridcolor": "white",
            "linecolor": "white",
            "ticks": ""
           },
           "bgcolor": "#E5ECF6",
           "caxis": {
            "gridcolor": "white",
            "linecolor": "white",
            "ticks": ""
           }
          },
          "title": {
           "x": 0.05
          },
          "xaxis": {
           "automargin": true,
           "gridcolor": "white",
           "linecolor": "white",
           "ticks": "",
           "title": {
            "standoff": 15
           },
           "zerolinecolor": "white",
           "zerolinewidth": 2
          },
          "yaxis": {
           "automargin": true,
           "gridcolor": "white",
           "linecolor": "white",
           "ticks": "",
           "title": {
            "standoff": 15
           },
           "zerolinecolor": "white",
           "zerolinewidth": 2
          }
         }
        },
        "title": {
         "text": "Song Popularity Metrics"
        },
        "updatemenus": [
         {
          "buttons": [
           {
            "args": [
             {
              "x": [
               [
                "Seven (feat. Latto) (Explicit Ver.)",
                "As It Was",
                "Flowers",
                "vampire",
                "I Wanna Be Yours",
                "What Was I Made For? [From The Motion Picture \"Barbie\"]",
                "Dance The Night (From Barbie The Album)",
                "Cruel Summer",
                "Daylight",
                "Sprinter",
                "Creepin'",
                "Popular (with Playboi Carti & Madonna) - The Idol Vol. 1 (Music from the HBO Original Series)",
                "fukumean",
                "Another Love",
                "I'm Good (Blue)",
                "Barbie World (with Aqua) [From Barbie The Album]",
                "Starboy",
                "Rush",
                "Sunflower - Spider-Man: Into the Spider-Verse",
                "Kill Bill",
                "Cupid - Twin Ver.",
                "Calm Down (with Selena Gomez)",
                "I Ain't Worried",
                "Blinding Lights",
                "Bite Me",
                "Like Crazy",
                "Baby Don't Hurt Me",
                "See You Again",
                "Heat Waves",
                "Viva La Vida",
                "Sweater Weather",
                "Mockingbird",
                "Die For You",
                "(It Goes Like) Nanana - Edit",
                "Tattoo",
                "Too Many Nights (feat. Don Toliver & with Future)",
                "Anti-Hero",
                "People",
                "Super Shy",
                "Riptide",
                "Blank Space",
                "Someone You Loved",
                "Makeba",
                "Summertime Sadness",
                "Cold Heart - PNAU Remix",
                "Can't Hold Us (feat. Ray Dalton)",
                "WHERE SHE GOES",
                "Ella Baila Sola",
                "BESO",
                "MONTAGEM - FR PUNK",
                "TQG",
                "LALA",
                "Miracle (with Ellie Goulding)",
                "Die For You - Remix",
                "Take Two",
                "Say Yes To Heaven",
                "Radio",
                "Trance (with Travis Scott & Young Thug)",
                "La Bachata",
                "Quevedo: Bzrp Music Sessions, Vol. 52",
                "La Bebe - Remix",
                "El Merengue",
                "Bones",
                "Shakira: Bzrp Music Sessions, Vol. 53",
                "Doja",
                "Where Are You Now",
                "Columbia",
                "Yellow",
                "Me Porto Bonito",
                "Set Fire to the Rain",
                "Without Me",
                "Counting Stars",
                "Style",
                "Moonlight",
                "Unholy (feat. Kim Petras)",
                "Titi Me Preguntï¿",
                "S91",
                "Boy's a liar Pt. 2",
                "un x100to",
                "Classy 101",
                "Peso Pluma: Bzrp Music Sessions, Vol. 55",
                "MOJABI GHOST",
                "AMARGURA",
                "Left and Right (Feat. Jung Kook of BTS)",
                "Still With You",
                "Chemical",
                "I Can See You (Taylorï¿½ï¿½ï¿½s Version) (From The ",
                "El Cielo",
                "Hey Mor",
                "Yandel 150",
                "Coco Chanel",
                "Rara Vez",
                "Feliz Cumpleaï¿½ï¿½os Fe",
                "Ojitos Lindos",
                "Danza Kuduro",
                "LA INOCENTE",
                "Overdrive",
                "golden hour",
                "STAY (with Justin Bieber)",
                "No Role Modelz"
               ]
              ],
              "y": [
               [
                80,
                52,
                71,
                51,
                48,
                44,
                67,
                55,
                51,
                92,
                71,
                85,
                85,
                45,
                56,
                77,
                68,
                74,
                76,
                64,
                78,
                80,
                71,
                50,
                80,
                63,
                60,
                56,
                76,
                49,
                61,
                62,
                59,
                67,
                55,
                68,
                64,
                59,
                78,
                48,
                75,
                50,
                82,
                56,
                80,
                63,
                65,
                67,
                77,
                63,
                72,
                71,
                64,
                53,
                62,
                49,
                42,
                75,
                84,
                62,
                81,
                78,
                77,
                78,
                91,
                67,
                67,
                43,
                91,
                61,
                92,
                66,
                60,
                64,
                71,
                65,
                86,
                70,
                57,
                86,
                85,
                81,
                92,
                88,
                53,
                50,
                69,
                72,
                90,
                78,
                68,
                84,
                87,
                65,
                47,
                76,
                56,
                51,
                59,
                70
               ]
              ]
             }
            ],
            "label": "Danceability",
            "method": "update"
           },
           {
            "args": [
             {
              "x": [
               [
                "Seven (feat. Latto) (Explicit Ver.)",
                "As It Was",
                "Flowers",
                "vampire",
                "I Wanna Be Yours",
                "What Was I Made For? [From The Motion Picture \"Barbie\"]",
                "Dance The Night (From Barbie The Album)",
                "Cruel Summer",
                "Daylight",
                "Sprinter",
                "Creepin'",
                "Popular (with Playboi Carti & Madonna) - The Idol Vol. 1 (Music from the HBO Original Series)",
                "fukumean",
                "Another Love",
                "I'm Good (Blue)",
                "Barbie World (with Aqua) [From Barbie The Album]",
                "Starboy",
                "Rush",
                "Sunflower - Spider-Man: Into the Spider-Verse",
                "Kill Bill",
                "Cupid - Twin Ver.",
                "Calm Down (with Selena Gomez)",
                "I Ain't Worried",
                "Blinding Lights",
                "Bite Me",
                "Like Crazy",
                "Baby Don't Hurt Me",
                "See You Again",
                "Heat Waves",
                "Viva La Vida",
                "Sweater Weather",
                "Mockingbird",
                "Die For You",
                "(It Goes Like) Nanana - Edit",
                "Tattoo",
                "Too Many Nights (feat. Don Toliver & with Future)",
                "Anti-Hero",
                "People",
                "Super Shy",
                "Riptide",
                "Blank Space",
                "Someone You Loved",
                "Makeba",
                "Summertime Sadness",
                "Cold Heart - PNAU Remix",
                "Can't Hold Us (feat. Ray Dalton)",
                "WHERE SHE GOES",
                "Ella Baila Sola",
                "BESO",
                "MONTAGEM - FR PUNK",
                "TQG",
                "LALA",
                "Miracle (with Ellie Goulding)",
                "Die For You - Remix",
                "Take Two",
                "Say Yes To Heaven",
                "Radio",
                "Trance (with Travis Scott & Young Thug)",
                "La Bachata",
                "Quevedo: Bzrp Music Sessions, Vol. 52",
                "La Bebe - Remix",
                "El Merengue",
                "Bones",
                "Shakira: Bzrp Music Sessions, Vol. 53",
                "Doja",
                "Where Are You Now",
                "Columbia",
                "Yellow",
                "Me Porto Bonito",
                "Set Fire to the Rain",
                "Without Me",
                "Counting Stars",
                "Style",
                "Moonlight",
                "Unholy (feat. Kim Petras)",
                "Titi Me Preguntï¿",
                "S91",
                "Boy's a liar Pt. 2",
                "un x100to",
                "Classy 101",
                "Peso Pluma: Bzrp Music Sessions, Vol. 55",
                "MOJABI GHOST",
                "AMARGURA",
                "Left and Right (Feat. Jung Kook of BTS)",
                "Still With You",
                "Chemical",
                "I Can See You (Taylorï¿½ï¿½ï¿½s Version) (From The ",
                "El Cielo",
                "Hey Mor",
                "Yandel 150",
                "Coco Chanel",
                "Rara Vez",
                "Feliz Cumpleaï¿½ï¿½os Fe",
                "Ojitos Lindos",
                "Danza Kuduro",
                "LA INOCENTE",
                "Overdrive",
                "golden hour",
                "STAY (with Justin Bieber)",
                "No Role Modelz"
               ]
              ],
              "y": [
               [
                89,
                66,
                65,
                32,
                44,
                14,
                78,
                58,
                32,
                66,
                17,
                83,
                22,
                13,
                38,
                75,
                49,
                35,
                91,
                43,
                76,
                82,
                82,
                38,
                69,
                36,
                23,
                58,
                53,
                42,
                41,
                24,
                51,
                96,
                30,
                17,
                51,
                71,
                52,
                50,
                57,
                45,
                40,
                24,
                92,
                88,
                23,
                83,
                53,
                84,
                61,
                61,
                31,
                50,
                57,
                17,
                20,
                48,
                85,
                55,
                56,
                70,
                65,
                50,
                97,
                26,
                26,
                28,
                43,
                47,
                67,
                48,
                48,
                88,
                24,
                19,
                42,
                86,
                56,
                67,
                81,
                74,
                55,
                72,
                34,
                37,
                82,
                17,
                40,
                58,
                14,
                96,
                57,
                27,
                86,
                46,
                48,
                14,
                48,
                47
               ]
              ]
             }
            ],
            "label": "Valence",
            "method": "update"
           },
           {
            "args": [
             {
              "x": [
               [
                "Seven (feat. Latto) (Explicit Ver.)",
                "As It Was",
                "Flowers",
                "vampire",
                "I Wanna Be Yours",
                "What Was I Made For? [From The Motion Picture \"Barbie\"]",
                "Dance The Night (From Barbie The Album)",
                "Cruel Summer",
                "Daylight",
                "Sprinter",
                "Creepin'",
                "Popular (with Playboi Carti & Madonna) - The Idol Vol. 1 (Music from the HBO Original Series)",
                "fukumean",
                "Another Love",
                "I'm Good (Blue)",
                "Barbie World (with Aqua) [From Barbie The Album]",
                "Starboy",
                "Rush",
                "Sunflower - Spider-Man: Into the Spider-Verse",
                "Kill Bill",
                "Cupid - Twin Ver.",
                "Calm Down (with Selena Gomez)",
                "I Ain't Worried",
                "Blinding Lights",
                "Bite Me",
                "Like Crazy",
                "Baby Don't Hurt Me",
                "See You Again",
                "Heat Waves",
                "Viva La Vida",
                "Sweater Weather",
                "Mockingbird",
                "Die For You",
                "(It Goes Like) Nanana - Edit",
                "Tattoo",
                "Too Many Nights (feat. Don Toliver & with Future)",
                "Anti-Hero",
                "People",
                "Super Shy",
                "Riptide",
                "Blank Space",
                "Someone You Loved",
                "Makeba",
                "Summertime Sadness",
                "Cold Heart - PNAU Remix",
                "Can't Hold Us (feat. Ray Dalton)",
                "WHERE SHE GOES",
                "Ella Baila Sola",
                "BESO",
                "MONTAGEM - FR PUNK",
                "TQG",
                "LALA",
                "Miracle (with Ellie Goulding)",
                "Die For You - Remix",
                "Take Two",
                "Say Yes To Heaven",
                "Radio",
                "Trance (with Travis Scott & Young Thug)",
                "La Bachata",
                "Quevedo: Bzrp Music Sessions, Vol. 52",
                "La Bebe - Remix",
                "El Merengue",
                "Bones",
                "Shakira: Bzrp Music Sessions, Vol. 53",
                "Doja",
                "Where Are You Now",
                "Columbia",
                "Yellow",
                "Me Porto Bonito",
                "Set Fire to the Rain",
                "Without Me",
                "Counting Stars",
                "Style",
                "Moonlight",
                "Unholy (feat. Kim Petras)",
                "Titi Me Preguntï¿",
                "S91",
                "Boy's a liar Pt. 2",
                "un x100to",
                "Classy 101",
                "Peso Pluma: Bzrp Music Sessions, Vol. 55",
                "MOJABI GHOST",
                "AMARGURA",
                "Left and Right (Feat. Jung Kook of BTS)",
                "Still With You",
                "Chemical",
                "I Can See You (Taylorï¿½ï¿½ï¿½s Version) (From The ",
                "El Cielo",
                "Hey Mor",
                "Yandel 150",
                "Coco Chanel",
                "Rara Vez",
                "Feliz Cumpleaï¿½ï¿½os Fe",
                "Ojitos Lindos",
                "Danza Kuduro",
                "LA INOCENTE",
                "Overdrive",
                "golden hour",
                "STAY (with Justin Bieber)",
                "No Role Modelz"
               ]
              ],
              "y": [
               [
                83,
                73,
                68,
                53,
                42,
                9,
                85,
                72,
                43,
                58,
                61,
                68,
                62,
                54,
                97,
                58,
                59,
                84,
                50,
                73,
                59,
                80,
                81,
                80,
                78,
                73,
                91,
                56,
                53,
                62,
                81,
                67,
                52,
                88,
                78,
                71,
                63,
                42,
                82,
                73,
                68,
                41,
                66,
                66,
                80,
                93,
                80,
                76,
                64,
                82,
                63,
                74,
                87,
                53,
                59,
                35,
                86,
                53,
                68,
                78,
                48,
                68,
                72,
                63,
                57,
                64,
                71,
                66,
                71,
                68,
                66,
                71,
                79,
                72,
                47,
                72,
                72,
                81,
                72,
                66,
                67,
                71,
                70,
                59,
                47,
                90,
                76,
                64,
                59,
                73,
                76,
                71,
                55,
                69,
                92,
                79,
                73,
                59,
                76,
                52
               ]
              ]
             }
            ],
            "label": "Energy",
            "method": "update"
           },
           {
            "args": [
             {
              "x": [
               [
                "Seven (feat. Latto) (Explicit Ver.)",
                "As It Was",
                "Flowers",
                "vampire",
                "I Wanna Be Yours",
                "What Was I Made For? [From The Motion Picture \"Barbie\"]",
                "Dance The Night (From Barbie The Album)",
                "Cruel Summer",
                "Daylight",
                "Sprinter",
                "Creepin'",
                "Popular (with Playboi Carti & Madonna) - The Idol Vol. 1 (Music from the HBO Original Series)",
                "fukumean",
                "Another Love",
                "I'm Good (Blue)",
                "Barbie World (with Aqua) [From Barbie The Album]",
                "Starboy",
                "Rush",
                "Sunflower - Spider-Man: Into the Spider-Verse",
                "Kill Bill",
                "Cupid - Twin Ver.",
                "Calm Down (with Selena Gomez)",
                "I Ain't Worried",
                "Blinding Lights",
                "Bite Me",
                "Like Crazy",
                "Baby Don't Hurt Me",
                "See You Again",
                "Heat Waves",
                "Viva La Vida",
                "Sweater Weather",
                "Mockingbird",
                "Die For You",
                "(It Goes Like) Nanana - Edit",
                "Tattoo",
                "Too Many Nights (feat. Don Toliver & with Future)",
                "Anti-Hero",
                "People",
                "Super Shy",
                "Riptide",
                "Blank Space",
                "Someone You Loved",
                "Makeba",
                "Summertime Sadness",
                "Cold Heart - PNAU Remix",
                "Can't Hold Us (feat. Ray Dalton)",
                "WHERE SHE GOES",
                "Ella Baila Sola",
                "BESO",
                "MONTAGEM - FR PUNK",
                "TQG",
                "LALA",
                "Miracle (with Ellie Goulding)",
                "Die For You - Remix",
                "Take Two",
                "Say Yes To Heaven",
                "Radio",
                "Trance (with Travis Scott & Young Thug)",
                "La Bachata",
                "Quevedo: Bzrp Music Sessions, Vol. 52",
                "La Bebe - Remix",
                "El Merengue",
                "Bones",
                "Shakira: Bzrp Music Sessions, Vol. 53",
                "Doja",
                "Where Are You Now",
                "Columbia",
                "Yellow",
                "Me Porto Bonito",
                "Set Fire to the Rain",
                "Without Me",
                "Counting Stars",
                "Style",
                "Moonlight",
                "Unholy (feat. Kim Petras)",
                "Titi Me Preguntï¿",
                "S91",
                "Boy's a liar Pt. 2",
                "un x100to",
                "Classy 101",
                "Peso Pluma: Bzrp Music Sessions, Vol. 55",
                "MOJABI GHOST",
                "AMARGURA",
                "Left and Right (Feat. Jung Kook of BTS)",
                "Still With You",
                "Chemical",
                "I Can See You (Taylorï¿½ï¿½ï¿½s Version) (From The ",
                "El Cielo",
                "Hey Mor",
                "Yandel 150",
                "Coco Chanel",
                "Rara Vez",
                "Feliz Cumpleaï¿½ï¿½os Fe",
                "Ojitos Lindos",
                "Danza Kuduro",
                "LA INOCENTE",
                "Overdrive",
                "golden hour",
                "STAY (with Justin Bieber)",
                "No Role Modelz"
               ]
              ],
              "y": [
               [
                31,
                34,
                6,
                17,
                12,
                96,
                2,
                11,
                83,
                19,
                36,
                7,
                12,
                70,
                4,
                52,
                16,
                0,
                54,
                5,
                43,
                43,
                11,
                0,
                28,
                0,
                0,
                37,
                44,
                9,
                5,
                21,
                9,
                12,
                24,
                15,
                12,
                55,
                18,
                43,
                9,
                75,
                39,
                7,
                4,
                3,
                14,
                48,
                74,
                70,
                67,
                7,
                4,
                23,
                3,
                71,
                21,
                18,
                58,
                1,
                21,
                3,
                2,
                27,
                38,
                52,
                37,
                0,
                9,
                0,
                0,
                6,
                0,
                51,
                1,
                10,
                59,
                25,
                23,
                14,
                26,
                14,
                18,
                62,
                9,
                0,
                6,
                7,
                0,
                5,
                4,
                18,
                10,
                8,
                8,
                31,
                0,
                65,
                4,
                30
               ]
              ]
             }
            ],
            "label": "Acousticness",
            "method": "update"
           },
           {
            "args": [
             {
              "x": [
               [
                "Seven (feat. Latto) (Explicit Ver.)",
                "As It Was",
                "Flowers",
                "vampire",
                "I Wanna Be Yours",
                "What Was I Made For? [From The Motion Picture \"Barbie\"]",
                "Dance The Night (From Barbie The Album)",
                "Cruel Summer",
                "Daylight",
                "Sprinter",
                "Creepin'",
                "Popular (with Playboi Carti & Madonna) - The Idol Vol. 1 (Music from the HBO Original Series)",
                "fukumean",
                "Another Love",
                "I'm Good (Blue)",
                "Barbie World (with Aqua) [From Barbie The Album]",
                "Starboy",
                "Rush",
                "Sunflower - Spider-Man: Into the Spider-Verse",
                "Kill Bill",
                "Cupid - Twin Ver.",
                "Calm Down (with Selena Gomez)",
                "I Ain't Worried",
                "Blinding Lights",
                "Bite Me",
                "Like Crazy",
                "Baby Don't Hurt Me",
                "See You Again",
                "Heat Waves",
                "Viva La Vida",
                "Sweater Weather",
                "Mockingbird",
                "Die For You",
                "(It Goes Like) Nanana - Edit",
                "Tattoo",
                "Too Many Nights (feat. Don Toliver & with Future)",
                "Anti-Hero",
                "People",
                "Super Shy",
                "Riptide",
                "Blank Space",
                "Someone You Loved",
                "Makeba",
                "Summertime Sadness",
                "Cold Heart - PNAU Remix",
                "Can't Hold Us (feat. Ray Dalton)",
                "WHERE SHE GOES",
                "Ella Baila Sola",
                "BESO",
                "MONTAGEM - FR PUNK",
                "TQG",
                "LALA",
                "Miracle (with Ellie Goulding)",
                "Die For You - Remix",
                "Take Two",
                "Say Yes To Heaven",
                "Radio",
                "Trance (with Travis Scott & Young Thug)",
                "La Bachata",
                "Quevedo: Bzrp Music Sessions, Vol. 52",
                "La Bebe - Remix",
                "El Merengue",
                "Bones",
                "Shakira: Bzrp Music Sessions, Vol. 53",
                "Doja",
                "Where Are You Now",
                "Columbia",
                "Yellow",
                "Me Porto Bonito",
                "Set Fire to the Rain",
                "Without Me",
                "Counting Stars",
                "Style",
                "Moonlight",
                "Unholy (feat. Kim Petras)",
                "Titi Me Preguntï¿",
                "S91",
                "Boy's a liar Pt. 2",
                "un x100to",
                "Classy 101",
                "Peso Pluma: Bzrp Music Sessions, Vol. 55",
                "MOJABI GHOST",
                "AMARGURA",
                "Left and Right (Feat. Jung Kook of BTS)",
                "Still With You",
                "Chemical",
                "I Can See You (Taylorï¿½ï¿½ï¿½s Version) (From The ",
                "El Cielo",
                "Hey Mor",
                "Yandel 150",
                "Coco Chanel",
                "Rara Vez",
                "Feliz Cumpleaï¿½ï¿½os Fe",
                "Ojitos Lindos",
                "Danza Kuduro",
                "LA INOCENTE",
                "Overdrive",
                "golden hour",
                "STAY (with Justin Bieber)",
                "No Role Modelz"
               ]
              ],
              "y": [
               [
                0,
                0,
                0,
                0,
                2,
                0,
                0,
                0,
                0,
                0,
                0,
                0,
                0,
                0,
                0,
                0,
                0,
                0,
                0,
                17,
                0,
                0,
                0,
                0,
                0,
                0,
                0,
                0,
                0,
                0,
                2,
                0,
                0,
                19,
                0,
                0,
                0,
                0,
                0,
                0,
                0,
                0,
                51,
                0,
                0,
                0,
                63,
                0,
                0,
                8,
                0,
                0,
                4,
                0,
                0,
                9,
                0,
                0,
                0,
                3,
                0,
                1,
                0,
                0,
                0,
                0,
                0,
                0,
                0,
                0,
                0,
                0,
                0,
                0,
                0,
                0,
                0,
                0,
                0,
                0,
                0,
                0,
                0,
                0,
                0,
                0,
                0,
                0,
                0,
                0,
                0,
                0,
                0,
                0,
                0,
                0,
                0,
                18,
                0,
                0
               ]
              ]
             }
            ],
            "label": "Instrumentalness",
            "method": "update"
           },
           {
            "args": [
             {
              "x": [
               [
                "Seven (feat. Latto) (Explicit Ver.)",
                "As It Was",
                "Flowers",
                "vampire",
                "I Wanna Be Yours",
                "What Was I Made For? [From The Motion Picture \"Barbie\"]",
                "Dance The Night (From Barbie The Album)",
                "Cruel Summer",
                "Daylight",
                "Sprinter",
                "Creepin'",
                "Popular (with Playboi Carti & Madonna) - The Idol Vol. 1 (Music from the HBO Original Series)",
                "fukumean",
                "Another Love",
                "I'm Good (Blue)",
                "Barbie World (with Aqua) [From Barbie The Album]",
                "Starboy",
                "Rush",
                "Sunflower - Spider-Man: Into the Spider-Verse",
                "Kill Bill",
                "Cupid - Twin Ver.",
                "Calm Down (with Selena Gomez)",
                "I Ain't Worried",
                "Blinding Lights",
                "Bite Me",
                "Like Crazy",
                "Baby Don't Hurt Me",
                "See You Again",
                "Heat Waves",
                "Viva La Vida",
                "Sweater Weather",
                "Mockingbird",
                "Die For You",
                "(It Goes Like) Nanana - Edit",
                "Tattoo",
                "Too Many Nights (feat. Don Toliver & with Future)",
                "Anti-Hero",
                "People",
                "Super Shy",
                "Riptide",
                "Blank Space",
                "Someone You Loved",
                "Makeba",
                "Summertime Sadness",
                "Cold Heart - PNAU Remix",
                "Can't Hold Us (feat. Ray Dalton)",
                "WHERE SHE GOES",
                "Ella Baila Sola",
                "BESO",
                "MONTAGEM - FR PUNK",
                "TQG",
                "LALA",
                "Miracle (with Ellie Goulding)",
                "Die For You - Remix",
                "Take Two",
                "Say Yes To Heaven",
                "Radio",
                "Trance (with Travis Scott & Young Thug)",
                "La Bachata",
                "Quevedo: Bzrp Music Sessions, Vol. 52",
                "La Bebe - Remix",
                "El Merengue",
                "Bones",
                "Shakira: Bzrp Music Sessions, Vol. 53",
                "Doja",
                "Where Are You Now",
                "Columbia",
                "Yellow",
                "Me Porto Bonito",
                "Set Fire to the Rain",
                "Without Me",
                "Counting Stars",
                "Style",
                "Moonlight",
                "Unholy (feat. Kim Petras)",
                "Titi Me Preguntï¿",
                "S91",
                "Boy's a liar Pt. 2",
                "un x100to",
                "Classy 101",
                "Peso Pluma: Bzrp Music Sessions, Vol. 55",
                "MOJABI GHOST",
                "AMARGURA",
                "Left and Right (Feat. Jung Kook of BTS)",
                "Still With You",
                "Chemical",
                "I Can See You (Taylorï¿½ï¿½ï¿½s Version) (From The ",
                "El Cielo",
                "Hey Mor",
                "Yandel 150",
                "Coco Chanel",
                "Rara Vez",
                "Feliz Cumpleaï¿½ï¿½os Fe",
                "Ojitos Lindos",
                "Danza Kuduro",
                "LA INOCENTE",
                "Overdrive",
                "golden hour",
                "STAY (with Justin Bieber)",
                "No Role Modelz"
               ]
              ],
              "y": [
               [
                8,
                31,
                3,
                31,
                11,
                10,
                33,
                11,
                9,
                8,
                8,
                36,
                28,
                9,
                35,
                23,
                13,
                11,
                7,
                16,
                34,
                14,
                6,
                9,
                11,
                36,
                12,
                11,
                9,
                11,
                10,
                13,
                15,
                8,
                12,
                11,
                19,
                10,
                15,
                15,
                13,
                11,
                25,
                12,
                10,
                10,
                11,
                8,
                17,
                9,
                9,
                10,
                8,
                44,
                38,
                11,
                9,
                18,
                22,
                23,
                8,
                11,
                7,
                9,
                40,
                17,
                11,
                23,
                9,
                13,
                36,
                12,
                12,
                17,
                27,
                13,
                9,
                25,
                27,
                12,
                12,
                56,
                15,
                9,
                83,
                12,
                6,
                10,
                10,
                10,
                10,
                34,
                29,
                53,
                5,
                7,
                35,
                25,
                10,
                6
               ]
              ]
             }
            ],
            "label": "Liveness",
            "method": "update"
           },
           {
            "args": [
             {
              "x": [
               [
                "Seven (feat. Latto) (Explicit Ver.)",
                "As It Was",
                "Flowers",
                "vampire",
                "I Wanna Be Yours",
                "What Was I Made For? [From The Motion Picture \"Barbie\"]",
                "Dance The Night (From Barbie The Album)",
                "Cruel Summer",
                "Daylight",
                "Sprinter",
                "Creepin'",
                "Popular (with Playboi Carti & Madonna) - The Idol Vol. 1 (Music from the HBO Original Series)",
                "fukumean",
                "Another Love",
                "I'm Good (Blue)",
                "Barbie World (with Aqua) [From Barbie The Album]",
                "Starboy",
                "Rush",
                "Sunflower - Spider-Man: Into the Spider-Verse",
                "Kill Bill",
                "Cupid - Twin Ver.",
                "Calm Down (with Selena Gomez)",
                "I Ain't Worried",
                "Blinding Lights",
                "Bite Me",
                "Like Crazy",
                "Baby Don't Hurt Me",
                "See You Again",
                "Heat Waves",
                "Viva La Vida",
                "Sweater Weather",
                "Mockingbird",
                "Die For You",
                "(It Goes Like) Nanana - Edit",
                "Tattoo",
                "Too Many Nights (feat. Don Toliver & with Future)",
                "Anti-Hero",
                "People",
                "Super Shy",
                "Riptide",
                "Blank Space",
                "Someone You Loved",
                "Makeba",
                "Summertime Sadness",
                "Cold Heart - PNAU Remix",
                "Can't Hold Us (feat. Ray Dalton)",
                "WHERE SHE GOES",
                "Ella Baila Sola",
                "BESO",
                "MONTAGEM - FR PUNK",
                "TQG",
                "LALA",
                "Miracle (with Ellie Goulding)",
                "Die For You - Remix",
                "Take Two",
                "Say Yes To Heaven",
                "Radio",
                "Trance (with Travis Scott & Young Thug)",
                "La Bachata",
                "Quevedo: Bzrp Music Sessions, Vol. 52",
                "La Bebe - Remix",
                "El Merengue",
                "Bones",
                "Shakira: Bzrp Music Sessions, Vol. 53",
                "Doja",
                "Where Are You Now",
                "Columbia",
                "Yellow",
                "Me Porto Bonito",
                "Set Fire to the Rain",
                "Without Me",
                "Counting Stars",
                "Style",
                "Moonlight",
                "Unholy (feat. Kim Petras)",
                "Titi Me Preguntï¿",
                "S91",
                "Boy's a liar Pt. 2",
                "un x100to",
                "Classy 101",
                "Peso Pluma: Bzrp Music Sessions, Vol. 55",
                "MOJABI GHOST",
                "AMARGURA",
                "Left and Right (Feat. Jung Kook of BTS)",
                "Still With You",
                "Chemical",
                "I Can See You (Taylorï¿½ï¿½ï¿½s Version) (From The ",
                "El Cielo",
                "Hey Mor",
                "Yandel 150",
                "Coco Chanel",
                "Rara Vez",
                "Feliz Cumpleaï¿½ï¿½os Fe",
                "Ojitos Lindos",
                "Danza Kuduro",
                "LA INOCENTE",
                "Overdrive",
                "golden hour",
                "STAY (with Justin Bieber)",
                "No Role Modelz"
               ]
              ],
              "y": [
               [
                4,
                6,
                7,
                6,
                3,
                3,
                5,
                15,
                3,
                24,
                5,
                20,
                9,
                4,
                4,
                25,
                28,
                6,
                5,
                4,
                3,
                4,
                5,
                7,
                14,
                4,
                3,
                10,
                9,
                3,
                3,
                28,
                7,
                4,
                8,
                5,
                5,
                7,
                7,
                4,
                6,
                3,
                7,
                3,
                3,
                8,
                6,
                3,
                14,
                7,
                28,
                4,
                4,
                7,
                3,
                3,
                9,
                34,
                4,
                4,
                33,
                4,
                5,
                5,
                29,
                10,
                4,
                3,
                8,
                3,
                9,
                4,
                4,
                5,
                9,
                25,
                19,
                5,
                5,
                16,
                5,
                4,
                7,
                3,
                4,
                5,
                3,
                5,
                29,
                7,
                4,
                17,
                7,
                4,
                24,
                6,
                4,
                3,
                5,
                33
               ]
              ]
             }
            ],
            "label": "Speechiness",
            "method": "update"
           }
          ]
         }
        ],
        "xaxis": {
         "anchor": "y",
         "domain": [
          0,
          1
         ],
         "title": {
          "text": "song_name"
         }
        },
        "yaxis": {
         "anchor": "x",
         "domain": [
          0,
          1
         ],
         "title": {
          "text": "score"
         }
        }
       }
      }
     },
     "metadata": {},
     "output_type": "display_data"
    }
   ],
   "source": [
    "fig = px.bar(df_Spotify_2, x='song_name', barmode='group', title='Song Popularity Metrics', text=df_Spotify_2['song_name'])\n",
    "\n",
    "# Update the layout to add dropdown menu for switching between different criteria\n",
    "fig.update_layout(\n",
    "    yaxis = {'title':'score'},\n",
    "    updatemenus=[\n",
    "        {\n",
    "            'buttons': [\n",
    "                {\n",
    "                    'label': 'Danceability',\n",
    "                    'method': 'update',\n",
    "                    'args': [{'y': [df_Spotify_2['danceability_%']],'x': [df_Spotify_2['song_name']]}]\n",
    "                },\n",
    "                {\n",
    "                    'label': 'Valence',\n",
    "                    'method': 'update',\n",
    "                    'args': [{'y': [df_Spotify_2['valence_%']], 'x': [df_Spotify_2['song_name']]}]\n",
    "                },\n",
    "                {\n",
    "                    'label': 'Energy',\n",
    "                    'method': 'update',\n",
    "                    'args': [{'y': [df_Spotify_2['energy_%']], 'x': [df_Spotify_2['song_name']]}]\n",
    "                },\n",
    "                {\n",
    "                    'label': 'Acousticness',\n",
    "                    'method': 'update',\n",
    "                    'args': [{'y': [df_Spotify_2['acousticness_%']], 'x': [df_Spotify_2['song_name']]}]\n",
    "                },\n",
    "                {\n",
    "                    'label': 'Instrumentalness',\n",
    "                    'method': 'update',\n",
    "                    'args': [{'y': [df_Spotify_2['instrumentalness_%']], 'x': [df_Spotify_2['song_name']]}]\n",
    "                },\n",
    "                {\n",
    "                    'label': 'Liveness',\n",
    "                    'method': 'update',\n",
    "                    'args': [{'y': [df_Spotify_2['liveness_%']], 'x': [df_Spotify_2['song_name']]}]\n",
    "                },\n",
    "                {\n",
    "                    'label': 'Speechiness',\n",
    "                    'method': 'update',\n",
    "                    'args': [{'y': [df_Spotify_2['speechiness_%']], 'x': [df_Spotify_2['song_name']]}]\n",
    "                }\n",
    "            ]\n",
    "        }\n",
    "    ]\n",
    ")\n",
    "fig.show()"
   ]
  },
  {
   "cell_type": "code",
   "execution_count": null,
   "metadata": {},
   "outputs": [],
   "source": [
    "#(create the same graph above but apply apple, spotify, and deezer charts to the buttons)"
   ]
  },
  {
   "cell_type": "code",
   "execution_count": 70,
   "metadata": {},
   "outputs": [
    {
     "data": {
      "text/plain": [
       "_id                     object\n",
       "song_name               object\n",
       "artist(s)_name          object\n",
       "artist_count             int64\n",
       "released_year            int64\n",
       "released_month           int64\n",
       "released_day             int64\n",
       "in_spotify_playlists     int64\n",
       "in_spotify_charts        int64\n",
       "streams                 object\n",
       "in_apple_playlists       int64\n",
       "in_apple_charts          int64\n",
       "in_deezer_playlists     object\n",
       "in_deezer_charts         int64\n",
       "in_shazam_charts        object\n",
       "bpm                      int64\n",
       "key                     object\n",
       "mode                    object\n",
       "danceability_%           int64\n",
       "valence_%                int64\n",
       "energy_%                 int64\n",
       "acousticness_%           int64\n",
       "instrumentalness_%       int64\n",
       "liveness_%               int64\n",
       "speechiness_%            int64\n",
       "dtype: object"
      ]
     },
     "execution_count": 70,
     "metadata": {},
     "output_type": "execute_result"
    }
   ],
   "source": [
    "df_Spotify_2.dtypes"
   ]
  },
  {
   "cell_type": "code",
   "execution_count": 73,
   "metadata": {},
   "outputs": [
    {
     "data": {
      "text/plain": [
       "song_name            object\n",
       "artist(s)_name       object\n",
       "released_year         int64\n",
       "released_month        int64\n",
       "released_day          int64\n",
       "in_spotify_charts     int64\n",
       "streams              object\n",
       "in_apple_charts       int64\n",
       "in_deezer_charts      int64\n",
       "in_shazam_charts     object\n",
       "bpm                   int64\n",
       "key                  object\n",
       "mode                 object\n",
       "dtype: object"
      ]
     },
     "execution_count": 73,
     "metadata": {},
     "output_type": "execute_result"
    }
   ],
   "source": [
    "df_streaming_charts.dtypes"
   ]
  },
  {
   "cell_type": "code",
   "execution_count": 128,
   "metadata": {},
   "outputs": [],
   "source": [
    "# fig2 = px.bar(df_streaming_charts, x='song_name', barmode='group', title='Song Popularity Metrics')\n",
    "# # Update the layout to add dropdown menu for switching between different criteria\n",
    "# fig.update_layout(\n",
    "#     yaxis = {'title':'score'},\n",
    "#     updatemenus=[\n",
    "#         {\n",
    "#             'buttons': [\n",
    "#                 {\n",
    "#                     'label': 'Spotify',\n",
    "#                     'method': 'update',\n",
    "#                     'args': [{'y': [df_streaming_charts['in_spotify_charts']],'x': [df_streaming_charts['song_name']]}]\n",
    "#                 },\n",
    "#                 {\n",
    "#                     'label': 'Apple',\n",
    "#                     'method': 'update',\n",
    "#                     #'args': [{'y': [df_streaming_charts['in_apple_charts']], 'x': [df_streaming_charts['song_name']], 'title': 'in_apple_charts'}]\n",
    "#                 },\n",
    "#                 {\n",
    "#                     'label': 'Deezer',\n",
    "#                     'method': 'update',\n",
    "#                     #'args': [{'y': [df_streaming_charts['in_deezer_charts']], 'x': [df_streaming_charts['song_name']], 'title': 'in_deezer_charts'}]\n",
    "#                 },\n",
    "#                 {\n",
    "#                     'label': 'Shazam',\n",
    "#                     'method': 'update',\n",
    "#                     #'args': [{'y': [df_streaming_charts['in_shazam_charts']], 'x': [df_streaming_charts['song_name']], 'title': 'in_shazam_charts'}]\n",
    "#                 }\n",
    "#             ]\n",
    "#         }\n",
    "#     ]\n",
    "# )\n",
    "# #fig2.show()"
   ]
  },
  {
   "cell_type": "code",
   "execution_count": 20,
   "metadata": {},
   "outputs": [],
   "source": [
    "#x_axis = np.arange(len(df_Spotify1))\n",
    "#tick_locations = [value for value in x_axis]\n",
    "#plt.bar(x_axis, df_Spotify1[\"artist(s)_name\"], color='r', alpha=0.5, align=\"center\")\n",
    "#plt.xticks(tick_locations, df_Spotify1[\"in_spotify_playlists\"], rotation=\"vertical\")\n",
    "#plt.show()"
   ]
  },
  {
   "cell_type": "code",
   "execution_count": 84,
   "metadata": {},
   "outputs": [],
   "source": [
    "fig.write_html('fig.html')"
   ]
  }
 ],
 "metadata": {
  "kernelspec": {
   "display_name": "Python 3",
   "language": "python",
   "name": "python3"
  },
  "language_info": {
   "codemirror_mode": {
    "name": "ipython",
    "version": 3
   },
   "file_extension": ".py",
   "mimetype": "text/x-python",
   "name": "python",
   "nbconvert_exporter": "python",
   "pygments_lexer": "ipython3",
   "version": "3.11.7"
  }
 },
 "nbformat": 4,
 "nbformat_minor": 2
}
